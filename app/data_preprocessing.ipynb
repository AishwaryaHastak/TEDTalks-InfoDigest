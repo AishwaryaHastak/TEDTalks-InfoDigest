{
 "cells": [
  {
   "cell_type": "code",
   "execution_count": 2,
   "metadata": {},
   "outputs": [],
   "source": [
    "import pandas as pd"
   ]
  },
  {
   "cell_type": "code",
   "execution_count": 93,
   "metadata": {},
   "outputs": [],
   "source": [
    "df = pd.read_csv('data/ted_talks_en.csv', header = 0)"
   ]
  },
  {
   "cell_type": "code",
   "execution_count": 94,
   "metadata": {},
   "outputs": [],
   "source": [
    "df.set_index('talk_id', inplace=True) "
   ]
  },
  {
   "cell_type": "code",
   "execution_count": 95,
   "metadata": {},
   "outputs": [
    {
     "data": {
      "text/html": [
       "<div>\n",
       "<style scoped>\n",
       "    .dataframe tbody tr th:only-of-type {\n",
       "        vertical-align: middle;\n",
       "    }\n",
       "\n",
       "    .dataframe tbody tr th {\n",
       "        vertical-align: top;\n",
       "    }\n",
       "\n",
       "    .dataframe thead th {\n",
       "        text-align: right;\n",
       "    }\n",
       "</style>\n",
       "<table border=\"1\" class=\"dataframe\">\n",
       "  <thead>\n",
       "    <tr style=\"text-align: right;\">\n",
       "      <th></th>\n",
       "      <th>title</th>\n",
       "      <th>speaker_1</th>\n",
       "      <th>all_speakers</th>\n",
       "      <th>occupations</th>\n",
       "      <th>about_speakers</th>\n",
       "      <th>views</th>\n",
       "      <th>recorded_date</th>\n",
       "      <th>published_date</th>\n",
       "      <th>event</th>\n",
       "      <th>native_lang</th>\n",
       "      <th>available_lang</th>\n",
       "      <th>comments</th>\n",
       "      <th>duration</th>\n",
       "      <th>topics</th>\n",
       "      <th>related_talks</th>\n",
       "      <th>url</th>\n",
       "      <th>description</th>\n",
       "      <th>transcript</th>\n",
       "    </tr>\n",
       "    <tr>\n",
       "      <th>talk_id</th>\n",
       "      <th></th>\n",
       "      <th></th>\n",
       "      <th></th>\n",
       "      <th></th>\n",
       "      <th></th>\n",
       "      <th></th>\n",
       "      <th></th>\n",
       "      <th></th>\n",
       "      <th></th>\n",
       "      <th></th>\n",
       "      <th></th>\n",
       "      <th></th>\n",
       "      <th></th>\n",
       "      <th></th>\n",
       "      <th></th>\n",
       "      <th></th>\n",
       "      <th></th>\n",
       "      <th></th>\n",
       "    </tr>\n",
       "  </thead>\n",
       "  <tbody>\n",
       "    <tr>\n",
       "      <th>1</th>\n",
       "      <td>Averting the climate crisis</td>\n",
       "      <td>Al Gore</td>\n",
       "      <td>{0: 'Al Gore'}</td>\n",
       "      <td>{0: ['climate advocate']}</td>\n",
       "      <td>{0: 'Nobel Laureate Al Gore focused the world’...</td>\n",
       "      <td>3523392</td>\n",
       "      <td>2006-02-25</td>\n",
       "      <td>2006-06-27</td>\n",
       "      <td>TED2006</td>\n",
       "      <td>en</td>\n",
       "      <td>['ar', 'bg', 'cs', 'de', 'el', 'en', 'es', 'fa...</td>\n",
       "      <td>272.0</td>\n",
       "      <td>977</td>\n",
       "      <td>['alternative energy', 'cars', 'climate change...</td>\n",
       "      <td>{243: 'New thinking on the climate crisis', 54...</td>\n",
       "      <td>https://www.ted.com/talks/al_gore_averting_the...</td>\n",
       "      <td>With the same humor and humanity he exuded in ...</td>\n",
       "      <td>Thank you so much, Chris. And it's truly a gre...</td>\n",
       "    </tr>\n",
       "  </tbody>\n",
       "</table>\n",
       "</div>"
      ],
      "text/plain": [
       "                               title speaker_1    all_speakers  \\\n",
       "talk_id                                                          \n",
       "1        Averting the climate crisis   Al Gore  {0: 'Al Gore'}   \n",
       "\n",
       "                       occupations  \\\n",
       "talk_id                              \n",
       "1        {0: ['climate advocate']}   \n",
       "\n",
       "                                            about_speakers    views  \\\n",
       "talk_id                                                               \n",
       "1        {0: 'Nobel Laureate Al Gore focused the world’...  3523392   \n",
       "\n",
       "        recorded_date published_date    event native_lang  \\\n",
       "talk_id                                                     \n",
       "1          2006-02-25     2006-06-27  TED2006          en   \n",
       "\n",
       "                                            available_lang  comments  \\\n",
       "talk_id                                                                \n",
       "1        ['ar', 'bg', 'cs', 'de', 'el', 'en', 'es', 'fa...     272.0   \n",
       "\n",
       "         duration                                             topics  \\\n",
       "talk_id                                                                \n",
       "1             977  ['alternative energy', 'cars', 'climate change...   \n",
       "\n",
       "                                             related_talks  \\\n",
       "talk_id                                                      \n",
       "1        {243: 'New thinking on the climate crisis', 54...   \n",
       "\n",
       "                                                       url  \\\n",
       "talk_id                                                      \n",
       "1        https://www.ted.com/talks/al_gore_averting_the...   \n",
       "\n",
       "                                               description  \\\n",
       "talk_id                                                      \n",
       "1        With the same humor and humanity he exuded in ...   \n",
       "\n",
       "                                                transcript  \n",
       "talk_id                                                     \n",
       "1        Thank you so much, Chris. And it's truly a gre...  "
      ]
     },
     "execution_count": 95,
     "metadata": {},
     "output_type": "execute_result"
    }
   ],
   "source": [
    "df.head(1)"
   ]
  },
  {
   "cell_type": "code",
   "execution_count": 96,
   "metadata": {},
   "outputs": [],
   "source": [
    "df.drop(['native_lang', 'available_lang','url', 'all_speakers','comments'], axis = 1, inplace = True)"
   ]
  },
  {
   "cell_type": "code",
   "execution_count": 97,
   "metadata": {},
   "outputs": [
    {
     "data": {
      "text/html": [
       "<div>\n",
       "<style scoped>\n",
       "    .dataframe tbody tr th:only-of-type {\n",
       "        vertical-align: middle;\n",
       "    }\n",
       "\n",
       "    .dataframe tbody tr th {\n",
       "        vertical-align: top;\n",
       "    }\n",
       "\n",
       "    .dataframe thead th {\n",
       "        text-align: right;\n",
       "    }\n",
       "</style>\n",
       "<table border=\"1\" class=\"dataframe\">\n",
       "  <thead>\n",
       "    <tr style=\"text-align: right;\">\n",
       "      <th></th>\n",
       "      <th>title</th>\n",
       "      <th>speaker_1</th>\n",
       "      <th>occupations</th>\n",
       "      <th>about_speakers</th>\n",
       "      <th>views</th>\n",
       "      <th>recorded_date</th>\n",
       "      <th>published_date</th>\n",
       "      <th>event</th>\n",
       "      <th>duration</th>\n",
       "      <th>topics</th>\n",
       "      <th>related_talks</th>\n",
       "      <th>description</th>\n",
       "      <th>transcript</th>\n",
       "    </tr>\n",
       "    <tr>\n",
       "      <th>talk_id</th>\n",
       "      <th></th>\n",
       "      <th></th>\n",
       "      <th></th>\n",
       "      <th></th>\n",
       "      <th></th>\n",
       "      <th></th>\n",
       "      <th></th>\n",
       "      <th></th>\n",
       "      <th></th>\n",
       "      <th></th>\n",
       "      <th></th>\n",
       "      <th></th>\n",
       "      <th></th>\n",
       "    </tr>\n",
       "  </thead>\n",
       "  <tbody>\n",
       "    <tr>\n",
       "      <th>1</th>\n",
       "      <td>Averting the climate crisis</td>\n",
       "      <td>Al Gore</td>\n",
       "      <td>{0: ['climate advocate']}</td>\n",
       "      <td>{0: 'Nobel Laureate Al Gore focused the world’...</td>\n",
       "      <td>3523392</td>\n",
       "      <td>2006-02-25</td>\n",
       "      <td>2006-06-27</td>\n",
       "      <td>TED2006</td>\n",
       "      <td>977</td>\n",
       "      <td>['alternative energy', 'cars', 'climate change...</td>\n",
       "      <td>{243: 'New thinking on the climate crisis', 54...</td>\n",
       "      <td>With the same humor and humanity he exuded in ...</td>\n",
       "      <td>Thank you so much, Chris. And it's truly a gre...</td>\n",
       "    </tr>\n",
       "  </tbody>\n",
       "</table>\n",
       "</div>"
      ],
      "text/plain": [
       "                               title speaker_1                occupations  \\\n",
       "talk_id                                                                     \n",
       "1        Averting the climate crisis   Al Gore  {0: ['climate advocate']}   \n",
       "\n",
       "                                            about_speakers    views  \\\n",
       "talk_id                                                               \n",
       "1        {0: 'Nobel Laureate Al Gore focused the world’...  3523392   \n",
       "\n",
       "        recorded_date published_date    event  duration  \\\n",
       "talk_id                                                   \n",
       "1          2006-02-25     2006-06-27  TED2006       977   \n",
       "\n",
       "                                                    topics  \\\n",
       "talk_id                                                      \n",
       "1        ['alternative energy', 'cars', 'climate change...   \n",
       "\n",
       "                                             related_talks  \\\n",
       "talk_id                                                      \n",
       "1        {243: 'New thinking on the climate crisis', 54...   \n",
       "\n",
       "                                               description  \\\n",
       "talk_id                                                      \n",
       "1        With the same humor and humanity he exuded in ...   \n",
       "\n",
       "                                                transcript  \n",
       "talk_id                                                     \n",
       "1        Thank you so much, Chris. And it's truly a gre...  "
      ]
     },
     "execution_count": 97,
     "metadata": {},
     "output_type": "execute_result"
    }
   ],
   "source": [
    "df.head(1)"
   ]
  },
  {
   "cell_type": "code",
   "execution_count": 98,
   "metadata": {},
   "outputs": [
    {
     "data": {
      "text/plain": [
       "Index(['title', 'speaker_1', 'occupations', 'about_speakers', 'views',\n",
       "       'recorded_date', 'published_date', 'event', 'duration', 'topics',\n",
       "       'related_talks', 'description', 'transcript'],\n",
       "      dtype='object')"
      ]
     },
     "execution_count": 98,
     "metadata": {},
     "output_type": "execute_result"
    }
   ],
   "source": [
    "df.columns"
   ]
  },
  {
   "cell_type": "code",
   "execution_count": 99,
   "metadata": {},
   "outputs": [
    {
     "data": {
      "text/plain": [
       "title               0\n",
       "speaker_1           0\n",
       "occupations       522\n",
       "about_speakers    503\n",
       "views               0\n",
       "recorded_date       1\n",
       "published_date      0\n",
       "event               0\n",
       "duration            0\n",
       "topics              0\n",
       "related_talks       0\n",
       "description         0\n",
       "transcript          0\n",
       "dtype: int64"
      ]
     },
     "execution_count": 99,
     "metadata": {},
     "output_type": "execute_result"
    }
   ],
   "source": [
    "df.isna().sum()"
   ]
  },
  {
   "cell_type": "markdown",
   "metadata": {},
   "source": [
    "##### Clean dataframe"
   ]
  },
  {
   "cell_type": "code",
   "execution_count": 219,
   "metadata": {},
   "outputs": [],
   "source": [
    "cleaned_df = df.dropna(axis = 0)"
   ]
  },
  {
   "cell_type": "code",
   "execution_count": 5,
   "metadata": {},
   "outputs": [
    {
     "data": {
      "text/plain": [
       "3197"
      ]
     },
     "execution_count": 5,
     "metadata": {},
     "output_type": "execute_result"
    }
   ],
   "source": [
    "len(cleaned_df)"
   ]
  },
  {
   "cell_type": "markdown",
   "metadata": {},
   "source": [
    "Spekaers"
   ]
  },
  {
   "cell_type": "markdown",
   "metadata": {},
   "source": [
    "Only keep data for speaker 1"
   ]
  },
  {
   "cell_type": "code",
   "execution_count": 221,
   "metadata": {},
   "outputs": [
    {
     "data": {
      "text/plain": [
       "str"
      ]
     },
     "execution_count": 221,
     "metadata": {},
     "output_type": "execute_result"
    }
   ],
   "source": [
    "type(cleaned_df.iloc[0]['occupations'])"
   ]
  },
  {
   "cell_type": "code",
   "execution_count": 222,
   "metadata": {},
   "outputs": [
    {
     "name": "stderr",
     "output_type": "stream",
     "text": [
      "C:\\Users\\h4has\\AppData\\Local\\Temp\\ipykernel_13496\\764750932.py:1: SettingWithCopyWarning: \n",
      "A value is trying to be set on a copy of a slice from a DataFrame.\n",
      "Try using .loc[row_indexer,col_indexer] = value instead\n",
      "\n",
      "See the caveats in the documentation: https://pandas.pydata.org/pandas-docs/stable/user_guide/indexing.html#returning-a-view-versus-a-copy\n",
      "  cleaned_df['occupations'] = cleaned_df['occupations'].apply(lambda x: eval(x)[0])\n"
     ]
    }
   ],
   "source": [
    "cleaned_df['occupations'] = cleaned_df['occupations'].apply(lambda x: eval(x)[0])"
   ]
  },
  {
   "cell_type": "code",
   "execution_count": 223,
   "metadata": {},
   "outputs": [
    {
     "data": {
      "text/plain": [
       "list"
      ]
     },
     "execution_count": 223,
     "metadata": {},
     "output_type": "execute_result"
    }
   ],
   "source": [
    "type(cleaned_df.iloc[0]['occupations'])"
   ]
  },
  {
   "cell_type": "code",
   "execution_count": 224,
   "metadata": {},
   "outputs": [
    {
     "data": {
      "text/plain": [
       "title                                 Improvising on piano, aged 14\n",
       "speaker_1                                              Jennifer Lin\n",
       "occupations                                     [pianist, composer]\n",
       "about_speakers    {0: 'Concert pianist and composer Jennifer Lin...\n",
       "views                                                       1818509\n",
       "recorded_date                                            2004-02-26\n",
       "published_date                                           2006-08-08\n",
       "event                                                       TED2004\n",
       "duration                                                       1445\n",
       "topics            ['creativity', 'entertainment', 'music', 'perf...\n",
       "related_talks     {2273: 'An 11-year-old prodigy performs old-sc...\n",
       "description       Pianist and composer Jennifer Lin gives a magi...\n",
       "transcript        (Music) (Music ends) (Applause) Thank you! (Ap...\n",
       "Name: 46, dtype: object"
      ]
     },
     "execution_count": 224,
     "metadata": {},
     "output_type": "execute_result"
    }
   ],
   "source": [
    "cleaned_df.iloc[14]"
   ]
  },
  {
   "cell_type": "markdown",
   "metadata": {},
   "source": [
    "About speaker"
   ]
  },
  {
   "cell_type": "code",
   "execution_count": 225,
   "metadata": {},
   "outputs": [
    {
     "data": {
      "text/plain": [
       "str"
      ]
     },
     "execution_count": 225,
     "metadata": {},
     "output_type": "execute_result"
    }
   ],
   "source": [
    "type(cleaned_df.iloc[0]['about_speakers'])"
   ]
  },
  {
   "cell_type": "code",
   "execution_count": 226,
   "metadata": {},
   "outputs": [
    {
     "name": "stderr",
     "output_type": "stream",
     "text": [
      "C:\\Users\\h4has\\AppData\\Local\\Temp\\ipykernel_13496\\1779822152.py:1: SettingWithCopyWarning: \n",
      "A value is trying to be set on a copy of a slice from a DataFrame.\n",
      "Try using .loc[row_indexer,col_indexer] = value instead\n",
      "\n",
      "See the caveats in the documentation: https://pandas.pydata.org/pandas-docs/stable/user_guide/indexing.html#returning-a-view-versus-a-copy\n",
      "  cleaned_df['about_speakers'] = cleaned_df['about_speakers'].apply(lambda x: eval(x)[0])\n"
     ]
    }
   ],
   "source": [
    "cleaned_df['about_speakers'] = cleaned_df['about_speakers'].apply(lambda x: eval(x)[0])"
   ]
  },
  {
   "cell_type": "code",
   "execution_count": 227,
   "metadata": {},
   "outputs": [
    {
     "data": {
      "text/plain": [
       "'Concert pianist and composer Jennifer Lin was only 14 when she performed at TED, drawing tears with her extraordinary improvisation.'"
      ]
     },
     "execution_count": 227,
     "metadata": {},
     "output_type": "execute_result"
    }
   ],
   "source": [
    "cleaned_df.iloc[14]['about_speakers']"
   ]
  },
  {
   "cell_type": "markdown",
   "metadata": {},
   "source": [
    "Topics"
   ]
  },
  {
   "cell_type": "code",
   "execution_count": 251,
   "metadata": {},
   "outputs": [
    {
     "name": "stderr",
     "output_type": "stream",
     "text": [
      "C:\\Users\\h4has\\AppData\\Local\\Temp\\ipykernel_13496\\1824117315.py:1: SettingWithCopyWarning: \n",
      "A value is trying to be set on a copy of a slice from a DataFrame.\n",
      "Try using .loc[row_indexer,col_indexer] = value instead\n",
      "\n",
      "See the caveats in the documentation: https://pandas.pydata.org/pandas-docs/stable/user_guide/indexing.html#returning-a-view-versus-a-copy\n",
      "  cleaned_df['topics'] = cleaned_df['topics'].apply(lambda x: eval(x))\n"
     ]
    }
   ],
   "source": [
    "cleaned_df['topics'] = cleaned_df['topics'].apply(lambda x: eval(x))"
   ]
  },
  {
   "cell_type": "code",
   "execution_count": null,
   "metadata": {},
   "outputs": [],
   "source": [
    "all_topics = []\n",
    "for row in cleaned_df.itertuples(): \n",
    "    occupation = row.topics \n",
    "    occ_dict = eval(occupation)\n",
    "    # print(type(occ_dict))\n",
    "    # print(occ_dict)\n",
    "    all_topics.extend(occ_dict)\n",
    "    # break\n",
    "    # print(row)"
   ]
  },
  {
   "cell_type": "code",
   "execution_count": 253,
   "metadata": {},
   "outputs": [
    {
     "name": "stdout",
     "output_type": "stream",
     "text": [
      "0\n"
     ]
    }
   ],
   "source": [
    "print(len(all_topics))"
   ]
  },
  {
   "cell_type": "code",
   "execution_count": 230,
   "metadata": {},
   "outputs": [],
   "source": [
    "unqiue_topics = set(all_topics)"
   ]
  },
  {
   "cell_type": "code",
   "execution_count": 231,
   "metadata": {},
   "outputs": [],
   "source": [
    "topic_dict = {topic:all_topics.count(topic) for topic in unqiue_topics}\n",
    "\n",
    "# for topic in all_topics:\n",
    "#     topic_dict[topic] = all_topics.count(topic)"
   ]
  },
  {
   "cell_type": "code",
   "execution_count": 236,
   "metadata": {},
   "outputs": [
    {
     "data": {
      "text/plain": [
       "220"
      ]
     },
     "execution_count": 236,
     "metadata": {},
     "output_type": "execute_result"
    }
   ],
   "source": [
    "topic_dict.pop('TEDx', None)\n",
    "topic_dict.pop('TED Fellows', None)"
   ]
  },
  {
   "cell_type": "code",
   "execution_count": 237,
   "metadata": {},
   "outputs": [
    {
     "data": {
      "text/plain": [
       "[('technology', 930),\n",
       " ('science', 819),\n",
       " ('culture', 589),\n",
       " ('global issues', 565),\n",
       " ('society', 545),\n",
       " ('social change', 505),\n",
       " ('design', 495),\n",
       " ('business', 434),\n",
       " ('humanity', 377),\n",
       " ('entertainment', 345),\n",
       " ('innovation', 344),\n",
       " ('health', 343),\n",
       " ('future', 326),\n",
       " ('art', 310),\n",
       " ('communication', 309),\n",
       " ('creativity', 294),\n",
       " ('community', 292),\n",
       " ('activism', 266),\n",
       " ('biology', 260),\n",
       " ('education', 246),\n",
       " ('collaboration', 242),\n",
       " ('personal growth', 232),\n",
       " ('environment', 232),\n",
       " ('history', 229),\n",
       " ('medicine', 225),\n",
       " ('economics', 219),\n",
       " ('children', 199),\n",
       " ('nature', 196),\n",
       " ('brain', 192),\n",
       " ('identity', 189),\n",
       " ('politics', 188),\n",
       " ('invention', 182),\n",
       " ('health care', 178),\n",
       " ('women', 170),\n",
       " ('life', 166),\n",
       " ('Africa', 160),\n",
       " ('music', 159),\n",
       " ('psychology', 156),\n",
       " ('computers', 153),\n",
       " ('animals', 152),\n",
       " ('inequality', 151),\n",
       " ('climate change', 149),\n",
       " ('storytelling', 149),\n",
       " ('sustainability', 146),\n",
       " ('cities', 146),\n",
       " ('work', 144),\n",
       " ('medical research', 141),\n",
       " ('data', 140),\n",
       " ('engineering', 138),\n",
       " ('government', 135),\n",
       " ('performance', 134),\n",
       " ('war', 126),\n",
       " ('exploration', 124),\n",
       " ('Internet', 121),\n",
       " ('humor', 120),\n",
       " ('disease', 117),\n",
       " ('neuroscience', 116),\n",
       " ('oceans', 111),\n",
       " ('live music', 110),\n",
       " ('photography', 106),\n",
       " ('architecture', 104),\n",
       " ('leadership', 103),\n",
       " ('space', 102),\n",
       " ('potential', 100),\n",
       " ('physics', 99),\n",
       " ('visualizations', 96),\n",
       " ('entrepreneur', 95),\n",
       " ('media', 95),\n",
       " ('happiness', 92),\n",
       " ('public health', 91),\n",
       " ('motivation', 90),\n",
       " ('family', 88),\n",
       " ('violence', 87),\n",
       " ('mental health', 86),\n",
       " ('beauty', 86),\n",
       " ('writing', 85),\n",
       " ('food', 85),\n",
       " ('universe', 84),\n",
       " ('race', 83),\n",
       " ('biotech', 83),\n",
       " ('biodiversity', 83),\n",
       " ('social media', 81),\n",
       " ('parenting', 81),\n",
       " ('illness', 81),\n",
       " ('democracy', 80),\n",
       " ('self', 80),\n",
       " ('mind', 79),\n",
       " ('evolution', 79),\n",
       " ('film', 79),\n",
       " ('United States', 77),\n",
       " ('policy', 77),\n",
       " ('pollution', 76),\n",
       " ('genetics', 75),\n",
       " ('global development', 75),\n",
       " ('big problems', 75),\n",
       " ('green', 74),\n",
       " ('robots', 74),\n",
       " ('gender equality', 73),\n",
       " ('AI', 73),\n",
       " ('law', 73),\n",
       " ('philosophy', 73),\n",
       " ('language', 72),\n",
       " ('poverty', 72),\n",
       " ('journalism', 72),\n",
       " ('teaching', 72),\n",
       " ('math', 71),\n",
       " ('cognitive science', 71),\n",
       " ('animation', 68),\n",
       " ('energy', 67),\n",
       " ('love', 66),\n",
       " ('human body', 66),\n",
       " ('infrastructure', 65),\n",
       " ('cancer', 63),\n",
       " ('TED-Ed', 63),\n",
       " ('astronomy', 62),\n",
       " ('demo', 61),\n",
       " ('religion', 61),\n",
       " ('poetry', 61),\n",
       " ('crime', 61),\n",
       " ('DNA', 60),\n",
       " ('peace', 60),\n",
       " ('relationships', 60),\n",
       " ('ecology', 60),\n",
       " ('product design', 59),\n",
       " ('water', 59),\n",
       " ('intelligence', 58),\n",
       " ('gender', 58),\n",
       " ('software', 57),\n",
       " ('algorithm', 56),\n",
       " ('adventure', 55),\n",
       " ('compassion', 54),\n",
       " ('india', 54),\n",
       " ('death', 53),\n",
       " ('success', 53),\n",
       " ('sex', 52),\n",
       " ('aging', 52),\n",
       " ('decision-making', 51),\n",
       " ('comedy', 51),\n",
       " ('chemistry', 49),\n",
       " ('materials', 49),\n",
       " ('youth', 48),\n",
       " ('agriculture', 48),\n",
       " ('choice', 48),\n",
       " ('goal-setting', 48),\n",
       " ('investment', 46),\n",
       " ('empathy', 46),\n",
       " ('urban planning', 46),\n",
       " ('insects', 45),\n",
       " ('Best of the Web', 45),\n",
       " ('web', 45),\n",
       " ('fish', 44),\n",
       " ('security', 44),\n",
       " ('disability', 43),\n",
       " ('science and art', 43),\n",
       " ('performance art', 42),\n",
       " ('money', 42),\n",
       " ('sports', 42),\n",
       " ('alternative energy', 42),\n",
       " ('emotions', 41),\n",
       " ('feminism', 41),\n",
       " ('terrorism', 41),\n",
       " ('books', 41),\n",
       " ('molecular biology', 39),\n",
       " ('Planets', 39),\n",
       " ('microbiology', 39),\n",
       " ('transportation', 39),\n",
       " ('marine biology', 38),\n",
       " ('depression', 38),\n",
       " ('Middle East', 38),\n",
       " ('plants', 38),\n",
       " ('justice system', 37),\n",
       " ('TEDMED', 37),\n",
       " ('fear', 37),\n",
       " ('gaming', 36),\n",
       " ('women in business', 35),\n",
       " ('bacteria', 35),\n",
       " ('Anthropocene', 35),\n",
       " ('philanthropy', 35),\n",
       " ('curiosity', 35),\n",
       " ('open-source', 34),\n",
       " ('machine learning', 34),\n",
       " ('code', 34),\n",
       " ('corruption', 34),\n",
       " ('Asia', 33),\n",
       " ('memory', 33),\n",
       " ('statistics', 33),\n",
       " ('biomechanics', 33),\n",
       " ('electricity', 33),\n",
       " ('immigration', 32),\n",
       " ('NASA', 32),\n",
       " ('prison', 32),\n",
       " ('TED Prize', 32),\n",
       " ('programming', 32),\n",
       " ('finance', 32),\n",
       " ('interface design', 31),\n",
       " ('movies', 31),\n",
       " ('bioethics', 30),\n",
       " ('conservation', 30),\n",
       " ('faith', 30),\n",
       " ('industrial design', 30),\n",
       " ('china', 30),\n",
       " ('anthropology', 29),\n",
       " ('fashion', 29),\n",
       " ('dance', 29),\n",
       " ('TED Residency', 29),\n",
       " ('criminal justice', 29),\n",
       " ('physiology', 29),\n",
       " ('work-life balance', 29),\n",
       " ('refugees', 28),\n",
       " ('news', 28),\n",
       " ('productivity', 28),\n",
       " ('consumerism', 28),\n",
       " ('consciousness', 27),\n",
       " ('virus', 27),\n",
       " ('public spaces', 27),\n",
       " ('discovery', 27),\n",
       " ('literature', 27),\n",
       " ('sight', 26),\n",
       " ('surveillance', 26),\n",
       " ('Senses', 26),\n",
       " ('world cultures', 26),\n",
       " ('online video', 26),\n",
       " ('cosmos', 25),\n",
       " ('privacy', 25),\n",
       " ('sociology', 25),\n",
       " ('play', 25),\n",
       " ('LGBT', 25),\n",
       " ('behavioral economics', 25),\n",
       " ('personality', 25),\n",
       " ('pharmaceuticals', 25),\n",
       " ('sound', 25),\n",
       " ('morality', 25),\n",
       " ('ancient world', 25),\n",
       " ('biosphere', 25),\n",
       " ('farming', 24),\n",
       " ('disaster relief', 24),\n",
       " ('illusion', 24),\n",
       " ('solar system', 24),\n",
       " ('nanoscale', 24),\n",
       " ('encryption', 24),\n",
       " ('time', 23),\n",
       " ('garden', 23),\n",
       " ('sexual violence', 23),\n",
       " ('drones', 23),\n",
       " ('cars', 23),\n",
       " ('natural resources', 23),\n",
       " ('complexity', 23),\n",
       " ('microbes', 23),\n",
       " ('military', 22),\n",
       " ('biomimicry', 22),\n",
       " ('mission blue', 22),\n",
       " ('marketing', 22),\n",
       " ('TEDYouth', 22),\n",
       " ('spoken word', 22),\n",
       " ('singer', 22),\n",
       " ('solar energy', 21),\n",
       " ('TED en Español', 21),\n",
       " ('magic', 21),\n",
       " ('library', 20),\n",
       " ('manufacturing', 20),\n",
       " ('vocals', 20),\n",
       " ('Europe', 20),\n",
       " ('telescopes', 20),\n",
       " ('failure', 20),\n",
       " ('trees', 20),\n",
       " ('HIV', 19),\n",
       " ('speech', 19),\n",
       " ('guitar', 19),\n",
       " ('botany', 19),\n",
       " ('prosthetics', 19),\n",
       " ('weather', 19),\n",
       " ('indigenous peoples', 19),\n",
       " ('Vaccines', 18),\n",
       " ('theater', 18),\n",
       " ('heart health', 18),\n",
       " ('TED Books', 18),\n",
       " ('synthetic biology', 18),\n",
       " ('virtual reality', 18),\n",
       " ('flight', 18),\n",
       " ('museums', 18),\n",
       " ('TEDNYC', 18),\n",
       " ('map', 18),\n",
       " ('global commons', 18),\n",
       " ('South America', 18),\n",
       " ('trust', 17),\n",
       " ('protests', 17),\n",
       " ('Surgery', 17),\n",
       " ('Transgender', 17),\n",
       " ('human origins', 17),\n",
       " ('mindfulness', 17),\n",
       " ('diversity', 17),\n",
       " ('AIDS', 17),\n",
       " ('interview', 17),\n",
       " ('friendship', 16),\n",
       " ('dark matter', 16),\n",
       " ('God', 16),\n",
       " ('medical imaging', 16),\n",
       " ('plastic', 16),\n",
       " ('birds', 16),\n",
       " ('addiction', 16),\n",
       " ('extraterrestrial life', 16),\n",
       " ('capitalism', 15),\n",
       " ('paleontology', 15),\n",
       " ('Audacious Project', 15),\n",
       " ('toy', 15),\n",
       " ('blindness', 15),\n",
       " ('simplicity', 14),\n",
       " ('astrobiology', 14),\n",
       " ('natural disaster', 14),\n",
       " ('Egypt', 14),\n",
       " ('hack', 14),\n",
       " ('MacArthur grant', 14),\n",
       " ('fungi', 14),\n",
       " ('Antarctica', 13),\n",
       " ('bees', 13),\n",
       " ('quantum physics', 13),\n",
       " ('markets', 13),\n",
       " ('Mars', 13),\n",
       " ('population', 13),\n",
       " ('piano', 13),\n",
       " ('sanitation', 13),\n",
       " ('Autism spectrum disorder', 13),\n",
       " ('archaeology', 13),\n",
       " ('presentation', 13),\n",
       " ('prediction', 13),\n",
       " ('big bang', 13),\n",
       " ('PTSD', 12),\n",
       " ('Gender spectrum', 12),\n",
       " ('men', 12),\n",
       " ('Slavery', 12),\n",
       " ('urban', 12),\n",
       " ('obesity', 12),\n",
       " ('evolutionary psychology', 12),\n",
       " ('ebola', 12),\n",
       " ('body language', 12),\n",
       " ('television', 12),\n",
       " ('dinosaurs', 12),\n",
       " ('pregnancy', 12),\n",
       " ('Google', 11),\n",
       " ('Brazil', 11),\n",
       " ('iraq', 11),\n",
       " ('driverless cars', 11),\n",
       " ('smell', 11),\n",
       " ('composing', 11),\n",
       " ('3D printing', 11),\n",
       " ('crowdsourcing', 11),\n",
       " ('narcotics', 11),\n",
       " ('pandemic', 11),\n",
       " ('painting', 10),\n",
       " ('CRISPR', 10),\n",
       " ('String theory', 10),\n",
       " ('graphic design', 10),\n",
       " ('hearing', 10),\n",
       " ('Debate', 10),\n",
       " ('coronavirus', 10),\n",
       " ('advertising', 10),\n",
       " ('nuclear energy', 10),\n",
       " ('coral reefs', 10),\n",
       " ('trafficking', 10),\n",
       " ('Syria', 10),\n",
       " ('travel', 10),\n",
       " ('aircraft', 10),\n",
       " ('rocket science', 10),\n",
       " ('pain', 10),\n",
       " ('submarine', 10),\n",
       " ('Foreign Policy', 9),\n",
       " ('bullying', 9),\n",
       " ('suicide', 9),\n",
       " ('sleep', 9),\n",
       " ('human rights', 9),\n",
       " ('mobility', 9),\n",
       " ('rivers', 9),\n",
       " ('extreme sports', 9),\n",
       " ('Islam', 9),\n",
       " ('resources', 9),\n",
       " ('telecom', 9),\n",
       " ('glacier', 8),\n",
       " ('deextinction', 8),\n",
       " ('guns', 8),\n",
       " ('wikipedia', 8),\n",
       " ('geology', 8),\n",
       " ('charter for compassion', 8),\n",
       " ('shopping', 8),\n",
       " (\"Alzheimer's\", 8),\n",
       " ('vulnerability', 8),\n",
       " ('monkeys', 7),\n",
       " ('bionics', 7),\n",
       " ('wind energy', 7),\n",
       " ('homelessness', 7),\n",
       " ('meditation', 7),\n",
       " ('blockchain', 7),\n",
       " ('Buddhism', 7),\n",
       " ('asteroid', 7),\n",
       " ('development', 7),\n",
       " ('conducting', 7),\n",
       " ('typography', 7),\n",
       " ('science fiction', 7),\n",
       " ('state-building', 7),\n",
       " ('New York', 7),\n",
       " ('funny', 6),\n",
       " ('Moon', 6),\n",
       " ('wunderkind', 6),\n",
       " ('oil', 6),\n",
       " ('TED Connects', 6),\n",
       " ('cryptocurrency', 6),\n",
       " ('nonviolence', 6),\n",
       " ('introvert', 6),\n",
       " ('Nobel Prize', 6),\n",
       " ('primates', 6),\n",
       " ('exercise', 6),\n",
       " ('Christianity', 6),\n",
       " ('violin', 5),\n",
       " ('Science (hard)', 5),\n",
       " ('atheism', 5),\n",
       " ('apes', 5),\n",
       " ('forensics', 5),\n",
       " ('ants', 5),\n",
       " ('microfinance', 5),\n",
       " ('nuclear weapons', 5),\n",
       " ('Iran', 5),\n",
       " ('meme', 5),\n",
       " ('epidemiology', 5),\n",
       " ('cello', 4),\n",
       " ('opioids', 4),\n",
       " ('jazz', 4),\n",
       " ('Brand', 4),\n",
       " ('grammar', 4),\n",
       " ('healthcare', 4),\n",
       " ('Social Science', 4),\n",
       " ('Sun', 4),\n",
       " ('student', 4),\n",
       " ('mining', 4),\n",
       " ('augmented reality', 4),\n",
       " ('arts', 3),\n",
       " ('book', 3),\n",
       " ('inclusion', 3),\n",
       " ('street art', 3),\n",
       " ('cooperation', 3),\n",
       " ('microsoft', 3),\n",
       " ('evil', 2),\n",
       " ('start-up', 2),\n",
       " ('novel', 2),\n",
       " ('Humanities', 2),\n",
       " ('origami', 2),\n",
       " ('stigma', 2),\n",
       " ('exoskeleton', 1),\n",
       " ('autism', 1),\n",
       " ('neurology', 1),\n",
       " ('skateboarding', 1),\n",
       " ('robot', 1),\n",
       " ('cloud', 1),\n",
       " ('rap', 1)]"
      ]
     },
     "execution_count": 237,
     "metadata": {},
     "output_type": "execute_result"
    }
   ],
   "source": [
    "sorted(topic_dict.items(), key=lambda x: x[1], reverse=True)"
   ]
  },
  {
   "cell_type": "code",
   "execution_count": 238,
   "metadata": {},
   "outputs": [],
   "source": [
    "top_k_value = 15"
   ]
  },
  {
   "cell_type": "code",
   "execution_count": 240,
   "metadata": {},
   "outputs": [
    {
     "data": {
      "text/plain": [
       "['technology',\n",
       " 'science',\n",
       " 'culture',\n",
       " 'global issues',\n",
       " 'society',\n",
       " 'social change',\n",
       " 'design',\n",
       " 'business',\n",
       " 'humanity',\n",
       " 'entertainment',\n",
       " 'innovation',\n",
       " 'health',\n",
       " 'future',\n",
       " 'art',\n",
       " 'communication']"
      ]
     },
     "execution_count": 240,
     "metadata": {},
     "output_type": "execute_result"
    }
   ],
   "source": [
    "top_k = [x[0] for x in sorted(topic_dict.items(), key=lambda x: x[1], reverse=True)[:top_k_value]]\n",
    "top_k"
   ]
  },
  {
   "cell_type": "code",
   "execution_count": 241,
   "metadata": {},
   "outputs": [
    {
     "data": {
      "text/plain": [
       "3476"
      ]
     },
     "execution_count": 241,
     "metadata": {},
     "output_type": "execute_result"
    }
   ],
   "source": [
    "len(cleaned_df)"
   ]
  },
  {
   "cell_type": "code",
   "execution_count": 244,
   "metadata": {},
   "outputs": [
    {
     "name": "stdout",
     "output_type": "stream",
     "text": [
      "0\n"
     ]
    }
   ],
   "source": [
    "outlier_topic_idx = []\n",
    "for row in cleaned_df.itertuples():\n",
    "    if not any(topic in row.topics for topic in top_k):\n",
    "        # print(row.Index, row.topics)\n",
    "        outlier_topic_idx.append(row.Index)\n",
    "print(len(outlier_topic_idx))"
   ]
  },
  {
   "cell_type": "code",
   "execution_count": 243,
   "metadata": {},
   "outputs": [
    {
     "name": "stderr",
     "output_type": "stream",
     "text": [
      "C:\\Users\\h4has\\AppData\\Local\\Temp\\ipykernel_13496\\1693428870.py:1: SettingWithCopyWarning: \n",
      "A value is trying to be set on a copy of a slice from a DataFrame\n",
      "\n",
      "See the caveats in the documentation: https://pandas.pydata.org/pandas-docs/stable/user_guide/indexing.html#returning-a-view-versus-a-copy\n",
      "  cleaned_df.drop(outlier_topic_idx, inplace=True)\n"
     ]
    }
   ],
   "source": [
    "cleaned_df.drop(outlier_topic_idx, inplace=True)"
   ]
  },
  {
   "cell_type": "code",
   "execution_count": 245,
   "metadata": {},
   "outputs": [
    {
     "data": {
      "text/plain": [
       "3197"
      ]
     },
     "execution_count": 245,
     "metadata": {},
     "output_type": "execute_result"
    }
   ],
   "source": [
    "len(cleaned_df)"
   ]
  },
  {
   "cell_type": "code",
   "execution_count": 262,
   "metadata": {},
   "outputs": [
    {
     "name": "stderr",
     "output_type": "stream",
     "text": [
      "C:\\Users\\h4has\\AppData\\Local\\Temp\\ipykernel_13496\\888904470.py:2: SettingWithCopyWarning: \n",
      "A value is trying to be set on a copy of a slice from a DataFrame.\n",
      "Try using .loc[row_indexer,col_indexer] = value instead\n",
      "\n",
      "See the caveats in the documentation: https://pandas.pydata.org/pandas-docs/stable/user_guide/indexing.html#returning-a-view-versus-a-copy\n",
      "  cleaned_df['topics'] = cleaned_df['topics'].apply(lambda x: [topic for topic in x if topic in top_k])\n"
     ]
    }
   ],
   "source": [
    "# Keep only occurrences from top_k for each row\n",
    "cleaned_df['topics'] = cleaned_df['topics'].apply(lambda x: [topic for topic in x if topic in top_k])"
   ]
  },
  {
   "cell_type": "code",
   "execution_count": 263,
   "metadata": {},
   "outputs": [
    {
     "data": {
      "text/plain": [
       "3197"
      ]
     },
     "execution_count": 263,
     "metadata": {},
     "output_type": "execute_result"
    }
   ],
   "source": [
    "len(cleaned_df)"
   ]
  },
  {
   "cell_type": "code",
   "execution_count": 264,
   "metadata": {},
   "outputs": [
    {
     "data": {
      "text/plain": [
       "['culture', 'global issues', 'science', 'technology']"
      ]
     },
     "execution_count": 264,
     "metadata": {},
     "output_type": "execute_result"
    }
   ],
   "source": [
    "cleaned_df.iloc[0]['topics']"
   ]
  },
  {
   "cell_type": "code",
   "execution_count": 265,
   "metadata": {},
   "outputs": [
    {
     "data": {
      "text/plain": [
       "talk_id\n",
       "1     [culture, global issues, science, technology]\n",
       "92                          [global issues, health]\n",
       "7                       [entertainment, technology]\n",
       "53                                       [business]\n",
       "Name: topics, dtype: object"
      ]
     },
     "execution_count": 265,
     "metadata": {},
     "output_type": "execute_result"
    }
   ],
   "source": [
    "cleaned_df['topics'].head(4)"
   ]
  },
  {
   "cell_type": "code",
   "execution_count": 267,
   "metadata": {},
   "outputs": [
    {
     "data": {
      "text/html": [
       "<div>\n",
       "<style scoped>\n",
       "    .dataframe tbody tr th:only-of-type {\n",
       "        vertical-align: middle;\n",
       "    }\n",
       "\n",
       "    .dataframe tbody tr th {\n",
       "        vertical-align: top;\n",
       "    }\n",
       "\n",
       "    .dataframe thead th {\n",
       "        text-align: right;\n",
       "    }\n",
       "</style>\n",
       "<table border=\"1\" class=\"dataframe\">\n",
       "  <thead>\n",
       "    <tr style=\"text-align: right;\">\n",
       "      <th></th>\n",
       "      <th>title</th>\n",
       "      <th>speaker_1</th>\n",
       "      <th>occupations</th>\n",
       "      <th>about_speakers</th>\n",
       "      <th>views</th>\n",
       "      <th>recorded_date</th>\n",
       "      <th>published_date</th>\n",
       "      <th>event</th>\n",
       "      <th>duration</th>\n",
       "      <th>topics</th>\n",
       "      <th>related_talks</th>\n",
       "      <th>description</th>\n",
       "      <th>transcript</th>\n",
       "    </tr>\n",
       "    <tr>\n",
       "      <th>talk_id</th>\n",
       "      <th></th>\n",
       "      <th></th>\n",
       "      <th></th>\n",
       "      <th></th>\n",
       "      <th></th>\n",
       "      <th></th>\n",
       "      <th></th>\n",
       "      <th></th>\n",
       "      <th></th>\n",
       "      <th></th>\n",
       "      <th></th>\n",
       "      <th></th>\n",
       "      <th></th>\n",
       "    </tr>\n",
       "  </thead>\n",
       "  <tbody>\n",
       "    <tr>\n",
       "      <th>1</th>\n",
       "      <td>Averting the climate crisis</td>\n",
       "      <td>Al Gore</td>\n",
       "      <td>[climate advocate]</td>\n",
       "      <td>Nobel Laureate Al Gore focused the world’s att...</td>\n",
       "      <td>3523392</td>\n",
       "      <td>2006-02-25</td>\n",
       "      <td>2006-06-27</td>\n",
       "      <td>TED2006</td>\n",
       "      <td>977</td>\n",
       "      <td>[culture, global issues, science, technology]</td>\n",
       "      <td>{243: 'New thinking on the climate crisis', 54...</td>\n",
       "      <td>With the same humor and humanity he exuded in ...</td>\n",
       "      <td>Thank you so much, Chris. And it's truly a gre...</td>\n",
       "    </tr>\n",
       "    <tr>\n",
       "      <th>92</th>\n",
       "      <td>The best stats you've ever seen</td>\n",
       "      <td>Hans Rosling</td>\n",
       "      <td>[global health expert; data visionary]</td>\n",
       "      <td>In Hans Rosling’s hands, data sings. Global tr...</td>\n",
       "      <td>14501685</td>\n",
       "      <td>2006-02-22</td>\n",
       "      <td>2006-06-27</td>\n",
       "      <td>TED2006</td>\n",
       "      <td>1190</td>\n",
       "      <td>[global issues, health]</td>\n",
       "      <td>{2056: \"Own your body's data\", 2296: 'A visual...</td>\n",
       "      <td>You've never seen data presented like this. Wi...</td>\n",
       "      <td>About 10 years ago, I took on the task to teac...</td>\n",
       "    </tr>\n",
       "    <tr>\n",
       "      <th>7</th>\n",
       "      <td>Simplicity sells</td>\n",
       "      <td>David Pogue</td>\n",
       "      <td>[technology columnist]</td>\n",
       "      <td>David Pogue is the personal technology columni...</td>\n",
       "      <td>1920832</td>\n",
       "      <td>2006-02-24</td>\n",
       "      <td>2006-06-27</td>\n",
       "      <td>TED2006</td>\n",
       "      <td>1286</td>\n",
       "      <td>[entertainment, technology]</td>\n",
       "      <td>{1725: '10 top time-saving tech tips', 2274: '...</td>\n",
       "      <td>New York Times columnist David Pogue takes aim...</td>\n",
       "      <td>(Music: \"The Sound of Silence,\" Simon &amp; Garfun...</td>\n",
       "    </tr>\n",
       "  </tbody>\n",
       "</table>\n",
       "</div>"
      ],
      "text/plain": [
       "                                   title     speaker_1  \\\n",
       "talk_id                                                  \n",
       "1            Averting the climate crisis       Al Gore   \n",
       "92       The best stats you've ever seen  Hans Rosling   \n",
       "7                       Simplicity sells   David Pogue   \n",
       "\n",
       "                                    occupations  \\\n",
       "talk_id                                           \n",
       "1                            [climate advocate]   \n",
       "92       [global health expert; data visionary]   \n",
       "7                        [technology columnist]   \n",
       "\n",
       "                                            about_speakers     views  \\\n",
       "talk_id                                                                \n",
       "1        Nobel Laureate Al Gore focused the world’s att...   3523392   \n",
       "92       In Hans Rosling’s hands, data sings. Global tr...  14501685   \n",
       "7        David Pogue is the personal technology columni...   1920832   \n",
       "\n",
       "        recorded_date published_date    event  duration  \\\n",
       "talk_id                                                   \n",
       "1          2006-02-25     2006-06-27  TED2006       977   \n",
       "92         2006-02-22     2006-06-27  TED2006      1190   \n",
       "7          2006-02-24     2006-06-27  TED2006      1286   \n",
       "\n",
       "                                                topics  \\\n",
       "talk_id                                                  \n",
       "1        [culture, global issues, science, technology]   \n",
       "92                             [global issues, health]   \n",
       "7                          [entertainment, technology]   \n",
       "\n",
       "                                             related_talks  \\\n",
       "talk_id                                                      \n",
       "1        {243: 'New thinking on the climate crisis', 54...   \n",
       "92       {2056: \"Own your body's data\", 2296: 'A visual...   \n",
       "7        {1725: '10 top time-saving tech tips', 2274: '...   \n",
       "\n",
       "                                               description  \\\n",
       "talk_id                                                      \n",
       "1        With the same humor and humanity he exuded in ...   \n",
       "92       You've never seen data presented like this. Wi...   \n",
       "7        New York Times columnist David Pogue takes aim...   \n",
       "\n",
       "                                                transcript  \n",
       "talk_id                                                     \n",
       "1        Thank you so much, Chris. And it's truly a gre...  \n",
       "92       About 10 years ago, I took on the task to teac...  \n",
       "7        (Music: \"The Sound of Silence,\" Simon & Garfun...  "
      ]
     },
     "execution_count": 267,
     "metadata": {},
     "output_type": "execute_result"
    }
   ],
   "source": [
    "cleaned_df.head(3)"
   ]
  },
  {
   "cell_type": "code",
   "execution_count": 268,
   "metadata": {},
   "outputs": [
    {
     "name": "stderr",
     "output_type": "stream",
     "text": [
      "C:\\Users\\h4has\\AppData\\Local\\Temp\\ipykernel_13496\\3268906097.py:1: SettingWithCopyWarning: \n",
      "A value is trying to be set on a copy of a slice from a DataFrame\n",
      "\n",
      "See the caveats in the documentation: https://pandas.pydata.org/pandas-docs/stable/user_guide/indexing.html#returning-a-view-versus-a-copy\n",
      "  cleaned_df.drop('related_talks', axis=1, inplace=True)\n"
     ]
    }
   ],
   "source": [
    "cleaned_df.drop('related_talks', axis=1, inplace=True)"
   ]
  },
  {
   "cell_type": "code",
   "execution_count": 270,
   "metadata": {},
   "outputs": [
    {
     "name": "stderr",
     "output_type": "stream",
     "text": [
      "C:\\Users\\h4has\\AppData\\Local\\Temp\\ipykernel_13496\\1843229939.py:1: SettingWithCopyWarning: \n",
      "A value is trying to be set on a copy of a slice from a DataFrame\n",
      "\n",
      "See the caveats in the documentation: https://pandas.pydata.org/pandas-docs/stable/user_guide/indexing.html#returning-a-view-versus-a-copy\n",
      "  cleaned_df.rename(columns={'speaker_1': 'speaker'}, inplace=True)\n"
     ]
    }
   ],
   "source": [
    "cleaned_df.rename(columns={'speaker_1': 'speaker'}, inplace=True)"
   ]
  },
  {
   "cell_type": "code",
   "execution_count": 271,
   "metadata": {},
   "outputs": [],
   "source": [
    "cleaned_df.to_csv('data/cleaned_talks.csv')"
   ]
  },
  {
   "cell_type": "code",
   "execution_count": 272,
   "metadata": {},
   "outputs": [
    {
     "data": {
      "text/plain": [
       "Index(['title', 'speaker', 'occupations', 'about_speakers', 'views',\n",
       "       'recorded_date', 'published_date', 'event', 'duration', 'topics',\n",
       "       'description', 'transcript'],\n",
       "      dtype='object')"
      ]
     },
     "execution_count": 272,
     "metadata": {},
     "output_type": "execute_result"
    }
   ],
   "source": [
    "cleaned_df.columns"
   ]
  },
  {
   "cell_type": "markdown",
   "metadata": {},
   "source": [
    "##### Keep only k most viewed talks"
   ]
  },
  {
   "cell_type": "code",
   "execution_count": 24,
   "metadata": {},
   "outputs": [],
   "source": [
    "cleaned_df = pd.read_csv('data/cleaned_talks.csv')"
   ]
  },
  {
   "cell_type": "code",
   "execution_count": 25,
   "metadata": {},
   "outputs": [
    {
     "data": {
      "text/plain": [
       "3197"
      ]
     },
     "execution_count": 25,
     "metadata": {},
     "output_type": "execute_result"
    }
   ],
   "source": [
    "len(cleaned_df)"
   ]
  },
  {
   "cell_type": "code",
   "execution_count": 26,
   "metadata": {},
   "outputs": [
    {
     "data": {
      "text/html": [
       "<div>\n",
       "<style scoped>\n",
       "    .dataframe tbody tr th:only-of-type {\n",
       "        vertical-align: middle;\n",
       "    }\n",
       "\n",
       "    .dataframe tbody tr th {\n",
       "        vertical-align: top;\n",
       "    }\n",
       "\n",
       "    .dataframe thead th {\n",
       "        text-align: right;\n",
       "    }\n",
       "</style>\n",
       "<table border=\"1\" class=\"dataframe\">\n",
       "  <thead>\n",
       "    <tr style=\"text-align: right;\">\n",
       "      <th></th>\n",
       "      <th>talk_id</th>\n",
       "      <th>title</th>\n",
       "      <th>speaker</th>\n",
       "      <th>occupations</th>\n",
       "      <th>about_speakers</th>\n",
       "      <th>views</th>\n",
       "      <th>recorded_date</th>\n",
       "      <th>published_date</th>\n",
       "      <th>event</th>\n",
       "      <th>duration</th>\n",
       "      <th>topics</th>\n",
       "      <th>description</th>\n",
       "      <th>transcript</th>\n",
       "    </tr>\n",
       "  </thead>\n",
       "  <tbody>\n",
       "    <tr>\n",
       "      <th>0</th>\n",
       "      <td>1</td>\n",
       "      <td>Averting the climate crisis</td>\n",
       "      <td>Al Gore</td>\n",
       "      <td>['climate advocate']</td>\n",
       "      <td>Nobel Laureate Al Gore focused the world’s att...</td>\n",
       "      <td>3523392</td>\n",
       "      <td>2006-02-25</td>\n",
       "      <td>2006-06-27</td>\n",
       "      <td>TED2006</td>\n",
       "      <td>977</td>\n",
       "      <td>['culture', 'global issues', 'science', 'techn...</td>\n",
       "      <td>With the same humor and humanity he exuded in ...</td>\n",
       "      <td>Thank you so much, Chris. And it's truly a gre...</td>\n",
       "    </tr>\n",
       "    <tr>\n",
       "      <th>1</th>\n",
       "      <td>92</td>\n",
       "      <td>The best stats you've ever seen</td>\n",
       "      <td>Hans Rosling</td>\n",
       "      <td>['global health expert; data visionary']</td>\n",
       "      <td>In Hans Rosling’s hands, data sings. Global tr...</td>\n",
       "      <td>14501685</td>\n",
       "      <td>2006-02-22</td>\n",
       "      <td>2006-06-27</td>\n",
       "      <td>TED2006</td>\n",
       "      <td>1190</td>\n",
       "      <td>['global issues', 'health']</td>\n",
       "      <td>You've never seen data presented like this. Wi...</td>\n",
       "      <td>About 10 years ago, I took on the task to teac...</td>\n",
       "    </tr>\n",
       "    <tr>\n",
       "      <th>2</th>\n",
       "      <td>7</td>\n",
       "      <td>Simplicity sells</td>\n",
       "      <td>David Pogue</td>\n",
       "      <td>['technology columnist']</td>\n",
       "      <td>David Pogue is the personal technology columni...</td>\n",
       "      <td>1920832</td>\n",
       "      <td>2006-02-24</td>\n",
       "      <td>2006-06-27</td>\n",
       "      <td>TED2006</td>\n",
       "      <td>1286</td>\n",
       "      <td>['entertainment', 'technology']</td>\n",
       "      <td>New York Times columnist David Pogue takes aim...</td>\n",
       "      <td>(Music: \"The Sound of Silence,\" Simon &amp; Garfun...</td>\n",
       "    </tr>\n",
       "  </tbody>\n",
       "</table>\n",
       "</div>"
      ],
      "text/plain": [
       "   talk_id                            title       speaker  \\\n",
       "0        1      Averting the climate crisis       Al Gore   \n",
       "1       92  The best stats you've ever seen  Hans Rosling   \n",
       "2        7                 Simplicity sells   David Pogue   \n",
       "\n",
       "                                occupations  \\\n",
       "0                      ['climate advocate']   \n",
       "1  ['global health expert; data visionary']   \n",
       "2                  ['technology columnist']   \n",
       "\n",
       "                                      about_speakers     views recorded_date  \\\n",
       "0  Nobel Laureate Al Gore focused the world’s att...   3523392    2006-02-25   \n",
       "1  In Hans Rosling’s hands, data sings. Global tr...  14501685    2006-02-22   \n",
       "2  David Pogue is the personal technology columni...   1920832    2006-02-24   \n",
       "\n",
       "  published_date    event  duration  \\\n",
       "0     2006-06-27  TED2006       977   \n",
       "1     2006-06-27  TED2006      1190   \n",
       "2     2006-06-27  TED2006      1286   \n",
       "\n",
       "                                              topics  \\\n",
       "0  ['culture', 'global issues', 'science', 'techn...   \n",
       "1                        ['global issues', 'health']   \n",
       "2                    ['entertainment', 'technology']   \n",
       "\n",
       "                                         description  \\\n",
       "0  With the same humor and humanity he exuded in ...   \n",
       "1  You've never seen data presented like this. Wi...   \n",
       "2  New York Times columnist David Pogue takes aim...   \n",
       "\n",
       "                                          transcript  \n",
       "0  Thank you so much, Chris. And it's truly a gre...  \n",
       "1  About 10 years ago, I took on the task to teac...  \n",
       "2  (Music: \"The Sound of Silence,\" Simon & Garfun...  "
      ]
     },
     "execution_count": 26,
     "metadata": {},
     "output_type": "execute_result"
    }
   ],
   "source": [
    "cleaned_df.head(3)"
   ]
  },
  {
   "cell_type": "markdown",
   "metadata": {},
   "source": [
    "top k views"
   ]
  },
  {
   "cell_type": "code",
   "execution_count": 27,
   "metadata": {},
   "outputs": [],
   "source": [
    "views = cleaned_df['views'].tolist()"
   ]
  },
  {
   "cell_type": "code",
   "execution_count": 28,
   "metadata": {},
   "outputs": [],
   "source": [
    "views.sort(reverse=True)"
   ]
  },
  {
   "cell_type": "code",
   "execution_count": 29,
   "metadata": {},
   "outputs": [
    {
     "data": {
      "text/plain": [
       "7780716"
      ]
     },
     "execution_count": 29,
     "metadata": {},
     "output_type": "execute_result"
    }
   ],
   "source": [
    "top_k = 100\n",
    "top_k_views = views[top_k-1]\n",
    "top_k_views"
   ]
  },
  {
   "cell_type": "code",
   "execution_count": 30,
   "metadata": {},
   "outputs": [],
   "source": [
    "cleaned_df_top_k = cleaned_df[cleaned_df['views'] >= top_k_views]"
   ]
  },
  {
   "cell_type": "code",
   "execution_count": 31,
   "metadata": {},
   "outputs": [
    {
     "data": {
      "text/plain": [
       "100"
      ]
     },
     "execution_count": 31,
     "metadata": {},
     "output_type": "execute_result"
    }
   ],
   "source": [
    "len(cleaned_df_top_k)"
   ]
  },
  {
   "cell_type": "code",
   "execution_count": 32,
   "metadata": {},
   "outputs": [],
   "source": [
    "cleaned_df_top_k.to_csv('data/topk_cleaned_data.csv')"
   ]
  },
  {
   "cell_type": "markdown",
   "metadata": {},
   "source": [
    "##### Chunk data"
   ]
  },
  {
   "cell_type": "code",
   "execution_count": 33,
   "metadata": {},
   "outputs": [],
   "source": [
    "cleaned_df_top_k = pd.read_csv('data/topk_cleaned_data.csv', header = 0)"
   ]
  },
  {
   "cell_type": "code",
   "execution_count": 46,
   "metadata": {},
   "outputs": [
    {
     "data": {
      "text/plain": [
       "Index(['Unnamed: 0', 'talk_id', 'title', 'speaker', 'occupations',\n",
       "       'about_speakers', 'views', 'recorded_date', 'published_date', 'event',\n",
       "       'duration', 'topics', 'description', 'transcript'],\n",
       "      dtype='object')"
      ]
     },
     "execution_count": 46,
     "metadata": {},
     "output_type": "execute_result"
    }
   ],
   "source": [
    "cleaned_df_top_k.columns"
   ]
  },
  {
   "cell_type": "code",
   "execution_count": 47,
   "metadata": {},
   "outputs": [],
   "source": [
    "transcript_df = cleaned_df_top_k[['title', 'speaker', 'about_speakers', 'topics', 'transcript','description']].copy()"
   ]
  },
  {
   "cell_type": "code",
   "execution_count": 48,
   "metadata": {},
   "outputs": [
    {
     "data": {
      "text/plain": [
       "100"
      ]
     },
     "execution_count": 48,
     "metadata": {},
     "output_type": "execute_result"
    }
   ],
   "source": [
    "len(transcript_df)"
   ]
  },
  {
   "cell_type": "code",
   "execution_count": 49,
   "metadata": {},
   "outputs": [
    {
     "data": {
      "text/html": [
       "<div>\n",
       "<style scoped>\n",
       "    .dataframe tbody tr th:only-of-type {\n",
       "        vertical-align: middle;\n",
       "    }\n",
       "\n",
       "    .dataframe tbody tr th {\n",
       "        vertical-align: top;\n",
       "    }\n",
       "\n",
       "    .dataframe thead th {\n",
       "        text-align: right;\n",
       "    }\n",
       "</style>\n",
       "<table border=\"1\" class=\"dataframe\">\n",
       "  <thead>\n",
       "    <tr style=\"text-align: right;\">\n",
       "      <th></th>\n",
       "      <th>title</th>\n",
       "      <th>speaker</th>\n",
       "      <th>about_speakers</th>\n",
       "      <th>topics</th>\n",
       "      <th>transcript</th>\n",
       "      <th>description</th>\n",
       "    </tr>\n",
       "  </thead>\n",
       "  <tbody>\n",
       "    <tr>\n",
       "      <th>0</th>\n",
       "      <td>The best stats you've ever seen</td>\n",
       "      <td>Hans Rosling</td>\n",
       "      <td>In Hans Rosling’s hands, data sings. Global tr...</td>\n",
       "      <td>['global issues', 'health']</td>\n",
       "      <td>About 10 years ago, I took on the task to teac...</td>\n",
       "      <td>You've never seen data presented like this. Wi...</td>\n",
       "    </tr>\n",
       "    <tr>\n",
       "      <th>1</th>\n",
       "      <td>Do schools kill creativity?</td>\n",
       "      <td>Sir Ken Robinson</td>\n",
       "      <td>Creativity expert Sir Ken Robinson challenges ...</td>\n",
       "      <td>['culture']</td>\n",
       "      <td>Good morning. How are you? (Audience) Good. It...</td>\n",
       "      <td>Sir Ken Robinson makes an entertaining and pro...</td>\n",
       "    </tr>\n",
       "    <tr>\n",
       "      <th>2</th>\n",
       "      <td>Why we love, why we cheat</td>\n",
       "      <td>Helen Fisher</td>\n",
       "      <td>Anthropologist Helen Fisher studies gender dif...</td>\n",
       "      <td>['culture', 'science']</td>\n",
       "      <td>I'd like to talk today about the two biggest s...</td>\n",
       "      <td>Anthropologist Helen Fisher takes on a tricky ...</td>\n",
       "    </tr>\n",
       "    <tr>\n",
       "      <th>3</th>\n",
       "      <td>Choice, happiness and spaghetti sauce</td>\n",
       "      <td>Malcolm Gladwell</td>\n",
       "      <td>Detective of fads and emerging subcultures, ch...</td>\n",
       "      <td>['business', 'culture']</td>\n",
       "      <td>I think I was supposed to talk about my new bo...</td>\n",
       "      <td>\"Tipping Point\" author Malcolm Gladwell gets i...</td>\n",
       "    </tr>\n",
       "  </tbody>\n",
       "</table>\n",
       "</div>"
      ],
      "text/plain": [
       "                                   title           speaker  \\\n",
       "0        The best stats you've ever seen      Hans Rosling   \n",
       "1            Do schools kill creativity?  Sir Ken Robinson   \n",
       "2              Why we love, why we cheat      Helen Fisher   \n",
       "3  Choice, happiness and spaghetti sauce  Malcolm Gladwell   \n",
       "\n",
       "                                      about_speakers  \\\n",
       "0  In Hans Rosling’s hands, data sings. Global tr...   \n",
       "1  Creativity expert Sir Ken Robinson challenges ...   \n",
       "2  Anthropologist Helen Fisher studies gender dif...   \n",
       "3  Detective of fads and emerging subcultures, ch...   \n",
       "\n",
       "                        topics  \\\n",
       "0  ['global issues', 'health']   \n",
       "1                  ['culture']   \n",
       "2       ['culture', 'science']   \n",
       "3      ['business', 'culture']   \n",
       "\n",
       "                                          transcript  \\\n",
       "0  About 10 years ago, I took on the task to teac...   \n",
       "1  Good morning. How are you? (Audience) Good. It...   \n",
       "2  I'd like to talk today about the two biggest s...   \n",
       "3  I think I was supposed to talk about my new bo...   \n",
       "\n",
       "                                         description  \n",
       "0  You've never seen data presented like this. Wi...  \n",
       "1  Sir Ken Robinson makes an entertaining and pro...  \n",
       "2  Anthropologist Helen Fisher takes on a tricky ...  \n",
       "3  \"Tipping Point\" author Malcolm Gladwell gets i...  "
      ]
     },
     "execution_count": 49,
     "metadata": {},
     "output_type": "execute_result"
    }
   ],
   "source": [
    "transcript_df.head(4)"
   ]
  },
  {
   "cell_type": "markdown",
   "metadata": {},
   "source": [
    "Break the transcript into chunks"
   ]
  },
  {
   "cell_type": "code",
   "execution_count": 50,
   "metadata": {},
   "outputs": [],
   "source": [
    "def fixed_size_chunking(text, chunk_size=500, overlap=50):\n",
    "    words = text.split('.')\n",
    "    # print(words)\n",
    "    # print(len(words))\n",
    "    chunks = []\n",
    "    chunk = ''\n",
    "    for word in words:\n",
    "        # chunk += word\n",
    "        # print(len(word))\n",
    "        if len(chunk+word)<chunk_size - overlap:\n",
    "            chunk += word\n",
    "            # continue\n",
    "        else:\n",
    "            chunks.append(chunk)\n",
    "            chunk = ''\n",
    "    # print('Total chunks:',len(chunks))\n",
    "    return chunks\n"
   ]
  },
  {
   "cell_type": "code",
   "execution_count": 51,
   "metadata": {},
   "outputs": [
    {
     "name": "stdout",
     "output_type": "stream",
     "text": [
      "About 10 years ago, I took on the task to teach global development to Swedish undergraduate students. That was after having spent about 20 years, together with African institutions, studying hunger in Africa. So I was sort of expected to know a little about the world. And I started, in our medical university, Karolinska Institute, an undergraduate course called Global Health. But when you get that opportunity, you get a little nervous. I thought, these students coming to us actually have the highest grade you can get in the Swedish college system, so I thought, maybe they know everything I'm going to teach them about. So I did a pretest when they came. And one of the questions from which I learned a lot was this one: \"Which country has the highest child mortality of these five pairs?\" And I put them together so that in each pair of countries, one has twice the child mortality of the other. And this means that it's much bigger, the difference, than the uncertainty of the data. I won't put you at a test here, but it's Turkey, which is highest there, Poland, Russia, Pakistan and South Africa. And these were the results of the Swedish students. I did it so I got the confidence interval, which is pretty narrow. And I got happy, of course — a 1.8 right answer out of five possible. That means there was a place for a professor of international health and for my course. (Laughter) But one late night, when I was compiling the report, I really realized my discovery. I have shown that Swedish top students know, statistically, significantly less about the world than the chimpanzees. (Laughter) Because the chimpanzee would score half right if I gave them two bananas with Sri Lanka and Turkey. They would be right half of the cases. But the students are not there. The problem for me was not ignorance; it was preconceived ideas. I did also an unethical study of the professors of the Karolinska Institute, which hands out the Nobel Prize in Medicine, and they are on par with the chimpanzee there. (Laughter) This is where I realized that there was really a need to communicate, because the data of what's happening in the world and the child health of every country is very well aware. So we did this software, which displays it like this. Every bubble here is a country. This country over here is China. This is India. The size of the bubble is the population, and on this axis here, I put fertility rate. Because my students, what they said when they looked upon the world, and I asked them, \"What do you really think about the world?\" Well, I first discovered that the textbook was Tintin, mainly. (Laughter) And they said, \"The world is still 'we' and 'them.' And 'we' is the Western world and 'them' is the Third World.\" \"And what do you mean with 'Western world?'\" I said. \"Well, that's long life and small family. And 'Third World' is short life and large family.\" So this is what I could display here. I put fertility rate here — number of children per woman: one, two, three, four, up to about eight children per woman. We have very good data since 1962, 1960, about, on the size of families in all countries. The error margin is narrow. Here, I put life expectancy at birth, from 30 years in some countries, up to about 70 years. And in 1962, there was really a group of countries here that were industrialized countries, and they had small families and long lives. And these were the developing countries. They had large families and they had relatively short lives. Now, what has happened since 1962? We want to see the change. Are the students right? It's still two types of countries? Or have these developing countries got smaller families and they live here? Or have they got longer lives and live up there? Let's see. We stopped the world then. This is all UN statistics that have been available. Here we go. Can you see there? It's China there, moving against better health there, improving there. All the green Latin American countries are moving towards smaller families. Your yellow ones here are the Arabic countries, and they get longer life, but not larger families. The Africans are the green here. They still remain here. This is India; Indonesia is moving on pretty fast. In the '80s here, you have Bangladesh still among the African countries. But now, Bangladesh — it's a miracle that happens in the '80s — the imams start to promote family planning, and they move up into that corner. And in the '90s, we have the terrible HIV epidemic that takes down the life expectancy of the African countries. And the rest of them all move up into the corner, where we have long lives and small family, and we have a completely new world. (Applause) (Applause ends) Let me make a comparison directly between the United States of America and Vietnam. 1964: America had small families and long life; Vietnam had large families and short lives. And this is what happens. The data during the war indicate that even with all the death, there was an improvement of life expectancy. By the end of the year, family planning started in Vietnam, and they went for smaller families. And the United States up there is getting longer life, keeping family size. And in the '80s now, they give up Communist planning and they go for market economy, and it moves faster even than social life. And today, we have in Vietnam the same life expectancy and the same family size here in Vietnam, 2003, as in United States, 1974, by the end of the war. I think we all, if we don't look at the data, we underestimate the tremendous change in Asia, which was in social change before we saw the economic change. So let's move over to another way here in which we could display the distribution in the world of income. This is the world distribution of income of people. One dollar, 10 dollars or 100 dollars per day. There's no gap between rich and poor any longer. This is a myth. There's a little hump here. But there are people all the way. And if we look where the income ends up, this is 100 percent of the world's annual income. And the richest 20 percent, they take out of that about 74 percent. And the poorest 20 percent, they take about two percent. And this shows that the concept of developing countries is extremely doubtful. We think about aid, like these people here giving aid to these people here. But in the middle, we have most of the world population, and they have now 24 percent of the income. We heard it in other forms. And who are these? Where are the different countries? I can show you Africa. This is Africa. Ten percent of the world population, most in poverty. This is OECD — the rich countries, the country club of the UN. And they are over here on this side. Quite an overlap between Africa and OECD. And this is Latin America. It has everything on this earth, from the poorest to the richest in Latin America. And on top of that, we can put East Europe, we can put East Asia, and we put South Asia. And what did it look like if we go back in time, to about 1970? Then, there was more of a hump. And most who lived in absolute poverty were Asians. The problem in the world was the poverty in Asia. And if I now let the world move forward, you will see that while population increases, there are hundreds of millions in Asia getting out of poverty, and some others getting into poverty, and this is the pattern we have today. And the best projection from the World Bank is that this will happen, and we will not have a divided world. We'll have most people in the middle. Of course it's a logarithmic scale here, but our concept of economy is growth with percent. We look upon it as a possibility of percentile increase. If I change this and take GDP per capita instead of family income, and I turn these individual data into regional data of gross domestic product, and I take the regions down here, the size of the bubble is still the population. And you have the OECD there, and you have sub-Saharan Africa there, and we take off the Arab states there, coming both from Africa and from Asia, and we put them separately, and we can expand this axis, and I can give it a new dimension here, by adding the social values there, child survival. Now I have money on that axis, and I have the possibility of children to survive there. In some countries, 99.7% of children survive to five years of age; others, only 70. And here, it seems, there is a gap between OECD, Latin America, East Europe, East Asia, Arab states, South Asia and sub-Saharan Africa. The linearity is very strong between child survival and money. But let me split sub-Saharan Africa. Health is there and better health is up there. I can go here, and I can split sub-Saharan Africa into its countries. And when it bursts, the size of each country bubble is the size of the population. Sierra Leone down there, Mauritius is up there. Mauritius was the first country to get away with trade barriers, and they could sell their sugar, they could sell their textiles, on equal terms as the people in Europe and North America. There's a huge difference [within] Africa. And Ghana is here in the middle. In Sierra Leone, humanitarian aid. Here in Uganda, development aid. Here, time to invest; there, you can go for a holiday. There's tremendous variation within Africa, which we very often make that it's equal everything. I can split South Asia here. India's the big bubble in the middle. But there's a huge difference between Afghanistan and Sri Lanka. I can split Arab states. How are they? Same climate, same culture, same religion — huge difference. Even between neighbors — Yemen, civil war; United Arab Emirates, money, which was quite equally and well-used. Not as the myth is. And that includes all the children of the foreign workers who are in the country. Data is often better than you think. Many people say data is bad. There is an uncertainty margin, but we can see the difference here: Cambodia, Singapore. The differences are much bigger than the weakness of the data. East Europe: Soviet economy for a long time, but they come out after 10 years very, very differently. And there is Latin America. Today, we don't have to go to Cuba to find a healthy country in Latin America. Chile will have a lower child mortality than Cuba within some few years from now. Here, we have high-income countries in the OECD. And we get the whole pattern here of the world, which is more or less like this. And if we look at it, how the world looks, in 1960, it starts to move. This is Mao Zedong. He brought health to China. And then he died. And then Deng Xiaoping came and brought money to China, and brought them into the mainstream again. And we have seen how countries move in different directions like this, so it's sort of difficult to get an example country which shows the pattern of the world. But I would like to bring you back to about here, at 1960. I would like to compare South Korea, which is this one, with Brazil, which is this one. The label went away for me here. And I would like to compare Uganda, which is there. I can run it forward, like this. And you can see how South Korea is making a very, very fast advancement, whereas Brazil is much slower. And if we move back again, here, and we put trails on them, like this, you can see again that the speed of development is very, very different, and the countries are moving more or less at the same rate as money and health, but it seems you can move much faster if you are healthy first than if you are wealthy first. And to show that, you can put on the way of United Arab Emirates. They came from here, a mineral country. They cached all the oil; they got all the money; but health cannot be bought at the supermarket. You have to invest in health. You have to get kids into schooling. You have to train health staff. You have to educate the population. And Sheikh Zayed did that in a fairly good way. In spite of falling oil prices, he brought this country up here. So we've got a much more mainstream appearance of the world, where all countries tend to use their money better than they used it in the past. Now, this is, more or less, if you look at the average data of the countries — they are like this. That's dangerous, to use average data, because there is such a lot of difference within countries. So if I go and look here, we can see that Uganda today is where South Korea was in 1960. If I split Uganda, there's quite a difference within Uganda. These are the quintiles of Uganda. The richest 20 percent of Ugandans are there. The poorest are down there. If I split South Africa, it's like this. And if I go down and look at Niger, where there was such a terrible famine [recently], it's like this. The 20 percent poorest of Niger is out here, and the 20 percent richest of South Africa is there, and yet we tend to discuss what solutions there should be in Africa. Everything in this world exists in Africa. And you can't discuss universal access to HIV [treatment] for that quintile up here with the same strategy as down here. The improvement of the world must be highly contextualized, and it's not relevant to have it on a regional level. We must be much more detailed. We find that students get very excited when they can use this. And even more, policy makers and the corporate sectors would like to see how the world is changing. Now, why doesn't this take place? Why are we not using the data we have? We have data in the United Nations, in the national statistical agencies and in universities and other nongovernmental organizations. Because the data is hidden down in the databases. And the public is there, and the internet is there, but we have still not used it effectively. All that information we saw changing in the world does not include publicly funded statistics. There are some web pages like this, you know, but they take some nourishment down from the databases, but people put prices on them, stupid passwords and boring statistics. (Laughter) And this won't work. (Applause) So what is needed? We have the databases. It's not a new database that you need. We have wonderful design tools and more and more are added up here. So we started a nonprofit venture linking data to design, we called \"Gapminder,\" from the London Underground, where they warn you, \"Mind the gap.\" So we thought Gapminder was appropriate. And we started to write software which could link the data like this. And it wasn't that difficult. It took some person years, and we have produced animations. You can take a data set and put it there. We are liberating UN data, some few UN organization. Some countries accept that their databases can go out on the world. But what we really need is, of course, a search function, a search function where we can copy the data up to a searchable format and get it out in the world. And what do we hear when we go around? I've done anthropology on the main statistical units. Everyone says, \"It's impossible. This can't be done. Our information is so peculiar in detail, so that cannot be searched as others can be searched. We cannot give the data free to the students, free to the entrepreneurs of the world.\" But this is what we would like to see, isn't it? The publicly funded data is down here. And we would like flowers to grow out on the net. One of the crucial points is to make them searchable, and then people can use the different design tools to animate it there. And I have pretty good news for you. I have good news that the [current], new head of UN statistics doesn't say it's impossible. He only says, \"We can't do it.\" (Laughter) And that's a quite clever guy, huh? (Laughter) So we can see a lot happening in data in the coming years. We will be able to look at income distributions in completely new ways. This is the income distribution of China, 1970. This is the income distribution of the United States, 1970. Almost no overlap. Almost no overlap. And what has happened? What has happened is this: that China is growing, it's not so equal any longer, and it's appearing here, overlooking the United States, almost like a ghost, isn't it? (Laughter) It's pretty scary. (Laughter) But I think it's very important to have all this information. We need really to see it. And instead of looking at this, I would like to end up by showing the internet users per 1,000. In this software, we access about 500 variables from all the countries quite easily. It takes some time to change for this, but on the axes, you can quite easily get any variable you would like to have. And the thing would be to get up the databases free, to get them searchable, and with a second click, to get them into the graphic formats, where you can instantly understand them. Now, statisticians don't like it, because they say that this will not show the reality; we have to have statistical, analytical methods. But this is hypothesis-generating. I end now with the world. There, the internet is coming. The number of internet users are going up like this. This is the GDP per capita. And it's a new technology coming in, but then amazingly, how well it fits to the economy of the countries. That's why the $100 computer will be so important. But it's a nice tendency. It's as if the world is flattening off, isn't it? These countries are lifting more than the economy, and it will be very interesting to follow this over the year, as I would like you to be able to do with all the publicly funded data. Thank you very much. (Applause)\n",
      "['About 10 years ago, I took on the task to teach global development to Swedish undergraduate students That was after having spent about 20 years, together with African institutions, studying hunger in Africa So I was sort of expected to know a little about the world And I started, in our medical university, Karolinska Institute, an undergraduate course called Global Health But when you get that opportunity, you get a little nervous', ' So I did a pretest when they came And one of the questions from which I learned a lot was this one: \"Which country has the highest child mortality of these five pairs?\" And I put them together so that in each pair of countries, one has twice the child mortality of the other And this means that it\\'s much bigger, the difference, than the uncertainty of the data', ' And these were the results of the Swedish students I did it so I got the confidence interval, which is pretty narrow And I got happy, of course — a 18 right answer out of five possible That means there was a place for a professor of international health and for my course (Laughter) But one late night, when I was compiling the report, I really realized my discovery', ' (Laughter) Because the chimpanzee would score half right if I gave them two bananas with Sri Lanka and Turkey They would be right half of the cases But the students are not there The problem for me was not ignorance; it was preconceived ideas I did also an unethical study of the professors of the Karolinska Institute, which hands out the Nobel Prize in Medicine, and they are on par with the chimpanzee there', ' So we did this software, which displays it like this Every bubble here is a country This country over here is China This is India The size of the bubble is the population, and on this axis here, I put fertility rate Because my students, what they said when they looked upon the world, and I asked them, \"What do you really think about the world?\" Well, I first discovered that the textbook was Tintin, mainly', '\\' And \\'we\\' is the Western world and \\'them\\' is the Third World\" \"And what do you mean with \\'Western world?\\'\" I said \"Well, that\\'s long life and small family And \\'Third World\\' is short life and large family\" So this is what I could display here I put fertility rate here — number of children per woman: one, two, three, four, up to about eight children per woman We have very good data since 1962, 1960, about, on the size of families in all countries', ' Here, I put life expectancy at birth, from 30 years in some countries, up to about 70 years And in 1962, there was really a group of countries here that were industrialized countries, and they had small families and long lives And these were the developing countries They had large families and they had relatively short lives Now, what has happened since 1962? We want to see the change', \" We stopped the world then This is all UN statistics that have been available Here we go Can you see there? It's China there, moving against better health there, improving there All the green Latin American countries are moving towards smaller families Your yellow ones here are the Arabic countries, and they get longer life, but not larger families The Africans are the green here They still remain here\", \" In the '80s here, you have Bangladesh still among the African countries But now, Bangladesh — it's a miracle that happens in the '80s — the imams start to promote family planning, and they move up into that corner And in the '90s, we have the terrible HIV epidemic that takes down the life expectancy of the African countries\", ' (Applause) (Applause ends) Let me make a comparison directly between the United States of America and Vietnam 1964: America had small families and long life; Vietnam had large families and short lives And this is what happens The data during the war indicate that even with all the death, there was an improvement of life expectancy By the end of the year, family planning started in Vietnam, and they went for smaller families', \" And in the '80s now, they give up Communist planning and they go for market economy, and it moves faster even than social life And today, we have in Vietnam the same life expectancy and the same family size here in Vietnam, 2003, as in United States, 1974, by the end of the war I think we all, if we don't look at the data, we underestimate the tremendous change in Asia, which was in social change before we saw the economic change\", \" This is the world distribution of income of people One dollar, 10 dollars or 100 dollars per day There's no gap between rich and poor any longer This is a myth There's a little hump here But there are people all the way And if we look where the income ends up, this is 100 percent of the world's annual income And the richest 20 percent, they take out of that about 74 percent And the poorest 20 percent, they take about two percent\", ' We think about aid, like these people here giving aid to these people here But in the middle, we have most of the world population, and they have now 24 percent of the income We heard it in other forms And who are these? Where are the different countries? I can show you Africa This is Africa Ten percent of the world population, most in poverty This is OECD — the rich countries, the country club of the UN And they are over here on this side', ' And this is Latin America It has everything on this earth, from the poorest to the richest in Latin America And on top of that, we can put East Europe, we can put East Asia, and we put South Asia And what did it look like if we go back in time, to about 1970? Then, there was more of a hump And most who lived in absolute poverty were Asians The problem in the world was the poverty in Asia', \" And the best projection from the World Bank is that this will happen, and we will not have a divided world We'll have most people in the middle Of course it's a logarithmic scale here, but our concept of economy is growth with percent We look upon it as a possibility of percentile increase\", ' And you have the OECD there, and you have sub-Saharan Africa there, and we take off the Arab states there, coming both from Africa and from Asia, and we put them separately, and we can expand this axis, and I can give it a new dimension here, by adding the social values there, child survival Now I have money on that axis, and I have the possibility of children to survive there In some countries, 99', ' And here, it seems, there is a gap between OECD, Latin America, East Europe, East Asia, Arab states, South Asia and sub-Saharan Africa The linearity is very strong between child survival and money But let me split sub-Saharan Africa Health is there and better health is up there I can go here, and I can split sub-Saharan Africa into its countries And when it bursts, the size of each country bubble is the size of the population', \" Mauritius was the first country to get away with trade barriers, and they could sell their sugar, they could sell their textiles, on equal terms as the people in Europe and North America There's a huge difference [within] Africa And Ghana is here in the middle In Sierra Leone, humanitarian aid Here in Uganda, development aid Here, time to invest; there, you can go for a holiday\", \" I can split South Asia here India's the big bubble in the middle But there's a huge difference between Afghanistan and Sri Lanka I can split Arab states How are they? Same climate, same culture, same religion — huge difference Even between neighbors — Yemen, civil war; United Arab Emirates, money, which was quite equally and well-used Not as the myth is And that includes all the children of the foreign workers who are in the country\", \" Many people say data is bad There is an uncertainty margin, but we can see the difference here: Cambodia, Singapore The differences are much bigger than the weakness of the data East Europe: Soviet economy for a long time, but they come out after 10 years very, very differently And there is Latin America Today, we don't have to go to Cuba to find a healthy country in Latin America\", ' Here, we have high-income countries in the OECD And we get the whole pattern here of the world, which is more or less like this And if we look at it, how the world looks, in 1960, it starts to move This is Mao Zedong He brought health to China And then he died And then Deng Xiaoping came and brought money to China, and brought them into the mainstream again', ' But I would like to bring you back to about here, at 1960 I would like to compare South Korea, which is this one, with Brazil, which is this one The label went away for me here And I would like to compare Uganda, which is there I can run it forward, like this And you can see how South Korea is making a very, very fast advancement, whereas Brazil is much slower', ' And to show that, you can put on the way of United Arab Emirates They came from here, a mineral country They cached all the oil; they got all the money; but health cannot be bought at the supermarket You have to invest in health You have to get kids into schooling You have to train health staff You have to educate the population And Sheikh Zayed did that in a fairly good way In spite of falling oil prices, he brought this country up here', \" Now, this is, more or less, if you look at the average data of the countries — they are like this That's dangerous, to use average data, because there is such a lot of difference within countries So if I go and look here, we can see that Uganda today is where South Korea was in 1960 If I split Uganda, there's quite a difference within Uganda These are the quintiles of Uganda The richest 20 percent of Ugandans are there\", \" If I split South Africa, it's like this And if I go down and look at Niger, where there was such a terrible famine [recently], it's like this The 20 percent poorest of Niger is out here, and the 20 percent richest of South Africa is there, and yet we tend to discuss what solutions there should be in Africa Everything in this world exists in Africa\", \" The improvement of the world must be highly contextualized, and it's not relevant to have it on a regional level We must be much more detailed We find that students get very excited when they can use this And even more, policy makers and the corporate sectors would like to see how the world is changing\", \" Because the data is hidden down in the databases And the public is there, and the internet is there, but we have still not used it effectively All that information we saw changing in the world does not include publicly funded statistics There are some web pages like this, you know, but they take some nourishment down from the databases, but people put prices on them, stupid passwords and boring statistics (Laughter) And this won't work\", ' It\\'s not a new database that you need We have wonderful design tools and more and more are added up here So we started a nonprofit venture linking data to design, we called \"Gapminder,\" from the London Underground, where they warn you, \"Mind the gap\" So we thought Gapminder was appropriate And we started to write software which could link the data like this And it wasn\\'t that difficult It took some person years, and we have produced animations', ' We are liberating UN data, some few UN organization Some countries accept that their databases can go out on the world But what we really need is, of course, a search function, a search function where we can copy the data up to a searchable format and get it out in the world And what do we hear when we go around? I\\'ve done anthropology on the main statistical units Everyone says, \"It\\'s impossible This can\\'t be done', ' We cannot give the data free to the students, free to the entrepreneurs of the world\" But this is what we would like to see, isn\\'t it? The publicly funded data is down here And we would like flowers to grow out on the net One of the crucial points is to make them searchable, and then people can use the different design tools to animate it there And I have pretty good news for you', ' He only says, \"We can\\'t do it\" (Laughter) And that\\'s a quite clever guy, huh? (Laughter) So we can see a lot happening in data in the coming years We will be able to look at income distributions in completely new ways This is the income distribution of China, 1970 This is the income distribution of the United States, 1970 Almost no overlap Almost no overlap', \" (Laughter) But I think it's very important to have all this information We need really to see it And instead of looking at this, I would like to end up by showing the internet users per 1,000 In this software, we access about 500 variables from all the countries quite easily It takes some time to change for this, but on the axes, you can quite easily get any variable you would like to have\", \" Now, statisticians don't like it, because they say that this will not show the reality; we have to have statistical, analytical methods But this is hypothesis-generating I end now with the world There, the internet is coming The number of internet users are going up like this This is the GDP per capita And it's a new technology coming in, but then amazingly, how well it fits to the economy of the countries\"]\n"
     ]
    }
   ],
   "source": [
    "for row in transcript_df.itertuples():\n",
    "    transcript = row.transcript\n",
    "    print(transcript)\n",
    "    result = fixed_size_chunking(transcript)\n",
    "    print(result)\n",
    "    break"
   ]
  },
  {
   "cell_type": "code",
   "execution_count": 52,
   "metadata": {},
   "outputs": [],
   "source": [
    "# Assuming df is your DataFrame\n",
    "transcript_df['transcript_chunks'] = transcript_df['transcript'].apply(fixed_size_chunking)"
   ]
  },
  {
   "cell_type": "code",
   "execution_count": 53,
   "metadata": {},
   "outputs": [
    {
     "data": {
      "text/html": [
       "<div>\n",
       "<style scoped>\n",
       "    .dataframe tbody tr th:only-of-type {\n",
       "        vertical-align: middle;\n",
       "    }\n",
       "\n",
       "    .dataframe tbody tr th {\n",
       "        vertical-align: top;\n",
       "    }\n",
       "\n",
       "    .dataframe thead th {\n",
       "        text-align: right;\n",
       "    }\n",
       "</style>\n",
       "<table border=\"1\" class=\"dataframe\">\n",
       "  <thead>\n",
       "    <tr style=\"text-align: right;\">\n",
       "      <th></th>\n",
       "      <th>title</th>\n",
       "      <th>speaker</th>\n",
       "      <th>about_speakers</th>\n",
       "      <th>topics</th>\n",
       "      <th>transcript</th>\n",
       "      <th>description</th>\n",
       "      <th>transcript_chunks</th>\n",
       "    </tr>\n",
       "  </thead>\n",
       "  <tbody>\n",
       "    <tr>\n",
       "      <th>0</th>\n",
       "      <td>The best stats you've ever seen</td>\n",
       "      <td>Hans Rosling</td>\n",
       "      <td>In Hans Rosling’s hands, data sings. Global tr...</td>\n",
       "      <td>['global issues', 'health']</td>\n",
       "      <td>About 10 years ago, I took on the task to teac...</td>\n",
       "      <td>You've never seen data presented like this. Wi...</td>\n",
       "      <td>[About 10 years ago, I took on the task to tea...</td>\n",
       "    </tr>\n",
       "    <tr>\n",
       "      <th>1</th>\n",
       "      <td>Do schools kill creativity?</td>\n",
       "      <td>Sir Ken Robinson</td>\n",
       "      <td>Creativity expert Sir Ken Robinson challenges ...</td>\n",
       "      <td>['culture']</td>\n",
       "      <td>Good morning. How are you? (Audience) Good. It...</td>\n",
       "      <td>Sir Ken Robinson makes an entertaining and pro...</td>\n",
       "      <td>[Good morning How are you? (Audience) Good It'...</td>\n",
       "    </tr>\n",
       "    <tr>\n",
       "      <th>2</th>\n",
       "      <td>Why we love, why we cheat</td>\n",
       "      <td>Helen Fisher</td>\n",
       "      <td>Anthropologist Helen Fisher studies gender dif...</td>\n",
       "      <td>['culture', 'science']</td>\n",
       "      <td>I'd like to talk today about the two biggest s...</td>\n",
       "      <td>Anthropologist Helen Fisher takes on a tricky ...</td>\n",
       "      <td>[I'd like to talk today about the two biggest ...</td>\n",
       "    </tr>\n",
       "  </tbody>\n",
       "</table>\n",
       "</div>"
      ],
      "text/plain": [
       "                             title           speaker  \\\n",
       "0  The best stats you've ever seen      Hans Rosling   \n",
       "1      Do schools kill creativity?  Sir Ken Robinson   \n",
       "2        Why we love, why we cheat      Helen Fisher   \n",
       "\n",
       "                                      about_speakers  \\\n",
       "0  In Hans Rosling’s hands, data sings. Global tr...   \n",
       "1  Creativity expert Sir Ken Robinson challenges ...   \n",
       "2  Anthropologist Helen Fisher studies gender dif...   \n",
       "\n",
       "                        topics  \\\n",
       "0  ['global issues', 'health']   \n",
       "1                  ['culture']   \n",
       "2       ['culture', 'science']   \n",
       "\n",
       "                                          transcript  \\\n",
       "0  About 10 years ago, I took on the task to teac...   \n",
       "1  Good morning. How are you? (Audience) Good. It...   \n",
       "2  I'd like to talk today about the two biggest s...   \n",
       "\n",
       "                                         description  \\\n",
       "0  You've never seen data presented like this. Wi...   \n",
       "1  Sir Ken Robinson makes an entertaining and pro...   \n",
       "2  Anthropologist Helen Fisher takes on a tricky ...   \n",
       "\n",
       "                                   transcript_chunks  \n",
       "0  [About 10 years ago, I took on the task to tea...  \n",
       "1  [Good morning How are you? (Audience) Good It'...  \n",
       "2  [I'd like to talk today about the two biggest ...  "
      ]
     },
     "execution_count": 53,
     "metadata": {},
     "output_type": "execute_result"
    }
   ],
   "source": [
    "transcript_df.head(3)"
   ]
  },
  {
   "cell_type": "code",
   "execution_count": 54,
   "metadata": {},
   "outputs": [],
   "source": [
    "chunked_data = []\n",
    "for row in transcript_df.itertuples():\n",
    "    for chunk in row.transcript_chunks:\n",
    "        chunked_data.append({\n",
    "            'title': row.title,\n",
    "            'speaker': row.speaker,\n",
    "            'topics': row.topics,\n",
    "            'transcript': chunk\n",
    "        })"
   ]
  },
  {
   "cell_type": "code",
   "execution_count": 55,
   "metadata": {},
   "outputs": [],
   "source": [
    "chunked_df = pd.DataFrame(chunked_data)"
   ]
  },
  {
   "cell_type": "code",
   "execution_count": 56,
   "metadata": {},
   "outputs": [
    {
     "data": {
      "text/html": [
       "<div>\n",
       "<style scoped>\n",
       "    .dataframe tbody tr th:only-of-type {\n",
       "        vertical-align: middle;\n",
       "    }\n",
       "\n",
       "    .dataframe tbody tr th {\n",
       "        vertical-align: top;\n",
       "    }\n",
       "\n",
       "    .dataframe thead th {\n",
       "        text-align: right;\n",
       "    }\n",
       "</style>\n",
       "<table border=\"1\" class=\"dataframe\">\n",
       "  <thead>\n",
       "    <tr style=\"text-align: right;\">\n",
       "      <th></th>\n",
       "      <th>title</th>\n",
       "      <th>speaker</th>\n",
       "      <th>topics</th>\n",
       "      <th>transcript</th>\n",
       "    </tr>\n",
       "  </thead>\n",
       "  <tbody>\n",
       "    <tr>\n",
       "      <th>0</th>\n",
       "      <td>The best stats you've ever seen</td>\n",
       "      <td>Hans Rosling</td>\n",
       "      <td>['global issues', 'health']</td>\n",
       "      <td>About 10 years ago, I took on the task to teac...</td>\n",
       "    </tr>\n",
       "    <tr>\n",
       "      <th>1</th>\n",
       "      <td>The best stats you've ever seen</td>\n",
       "      <td>Hans Rosling</td>\n",
       "      <td>['global issues', 'health']</td>\n",
       "      <td>So I did a pretest when they came And one of ...</td>\n",
       "    </tr>\n",
       "    <tr>\n",
       "      <th>2</th>\n",
       "      <td>The best stats you've ever seen</td>\n",
       "      <td>Hans Rosling</td>\n",
       "      <td>['global issues', 'health']</td>\n",
       "      <td>And these were the results of the Swedish stu...</td>\n",
       "    </tr>\n",
       "  </tbody>\n",
       "</table>\n",
       "</div>"
      ],
      "text/plain": [
       "                             title       speaker                       topics  \\\n",
       "0  The best stats you've ever seen  Hans Rosling  ['global issues', 'health']   \n",
       "1  The best stats you've ever seen  Hans Rosling  ['global issues', 'health']   \n",
       "2  The best stats you've ever seen  Hans Rosling  ['global issues', 'health']   \n",
       "\n",
       "                                          transcript  \n",
       "0  About 10 years ago, I took on the task to teac...  \n",
       "1   So I did a pretest when they came And one of ...  \n",
       "2   And these were the results of the Swedish stu...  "
      ]
     },
     "execution_count": 56,
     "metadata": {},
     "output_type": "execute_result"
    }
   ],
   "source": [
    "chunked_df.head(3)"
   ]
  },
  {
   "cell_type": "code",
   "execution_count": 57,
   "metadata": {},
   "outputs": [
    {
     "data": {
      "text/plain": [
       "2297"
      ]
     },
     "execution_count": 57,
     "metadata": {},
     "output_type": "execute_result"
    }
   ],
   "source": [
    "len(chunked_data)"
   ]
  },
  {
   "cell_type": "code",
   "execution_count": 58,
   "metadata": {},
   "outputs": [],
   "source": [
    "chunked_df.to_csv('data/chunked_data.csv')"
   ]
  },
  {
   "cell_type": "markdown",
   "metadata": {},
   "source": [
    "Unique Events"
   ]
  },
  {
   "cell_type": "code",
   "execution_count": 21,
   "metadata": {},
   "outputs": [
    {
     "data": {
      "text/plain": [
       "459"
      ]
     },
     "execution_count": 21,
     "metadata": {},
     "output_type": "execute_result"
    }
   ],
   "source": [
    "events_list = df['event'].unique().tolist()\n",
    "len(events_list)"
   ]
  },
  {
   "cell_type": "markdown",
   "metadata": {},
   "source": [
    "Unique topics"
   ]
  },
  {
   "cell_type": "code",
   "execution_count": 23,
   "metadata": {},
   "outputs": [
    {
     "data": {
      "text/plain": [
       "4005"
      ]
     },
     "execution_count": 23,
     "metadata": {},
     "output_type": "execute_result"
    }
   ],
   "source": [
    "topics_list = [df.iloc[i]['topics'] for i in range(len(df))]\n",
    "len(topics_list)"
   ]
  },
  {
   "cell_type": "code",
   "execution_count": 24,
   "metadata": {},
   "outputs": [
    {
     "data": {
      "text/plain": [
       "[\"['alternative energy', 'cars', 'climate change', 'culture', 'environment', 'global issues', 'science', 'sustainability', 'technology']\",\n",
       " \"['Africa', 'Asia', 'Google', 'demo', 'economics', 'global issues', 'health', 'statistics', 'global development', 'visualizations', 'math']\",\n",
       " \"['computers', 'entertainment', 'interface design', 'media', 'music', 'performance', 'simplicity', 'software', 'technology']\"]"
      ]
     },
     "execution_count": 24,
     "metadata": {},
     "output_type": "execute_result"
    }
   ],
   "source": [
    "topics_list[:3]"
   ]
  },
  {
   "cell_type": "code",
   "execution_count": 16,
   "metadata": {},
   "outputs": [
    {
     "data": {
      "text/plain": [
       "\"['alternative energy', 'cars', 'climate change', 'culture', 'environment', 'global issues', 'science', 'sustainability', 'technology']\""
      ]
     },
     "execution_count": 16,
     "metadata": {},
     "output_type": "execute_result"
    }
   ],
   "source": [
    "df.iloc[0]['topics']"
   ]
  },
  {
   "cell_type": "code",
   "execution_count": 17,
   "metadata": {},
   "outputs": [
    {
     "data": {
      "text/plain": [
       "0       ['alternative energy', 'cars', 'climate change...\n",
       "1       ['Africa', 'Asia', 'Google', 'demo', 'economic...\n",
       "2       ['computers', 'entertainment', 'interface desi...\n",
       "3       ['MacArthur grant', 'activism', 'business', 'c...\n",
       "4       ['children', 'creativity', 'culture', 'dance',...\n",
       "                              ...                        \n",
       "4000    ['activism', 'data', 'technology', 'mental hea...\n",
       "4001    ['TED-Ed', 'education', 'history', 'animation'...\n",
       "4002    ['society', 'law', 'policy', 'justice system',...\n",
       "4003    ['TED-Ed', 'education', 'animation', 'United S...\n",
       "4004    ['animals', 'TED-Ed', 'animation', 'oceans', '...\n",
       "Name: topics, Length: 4005, dtype: object"
      ]
     },
     "execution_count": 17,
     "metadata": {},
     "output_type": "execute_result"
    }
   ],
   "source": [
    "df['topics']"
   ]
  }
 ],
 "metadata": {
  "kernelspec": {
   "display_name": "rag_zoom",
   "language": "python",
   "name": "python3"
  },
  "language_info": {
   "codemirror_mode": {
    "name": "ipython",
    "version": 3
   },
   "file_extension": ".py",
   "mimetype": "text/x-python",
   "name": "python",
   "nbconvert_exporter": "python",
   "pygments_lexer": "ipython3",
   "version": "3.9.0"
  }
 },
 "nbformat": 4,
 "nbformat_minor": 2
}
