{
 "cells": [
  {
   "cell_type": "code",
   "execution_count": 29,
   "metadata": {},
   "outputs": [],
   "source": [
    "import os\n",
    "import sys\n",
    "from tqdm import tqdm \n",
    "import pandas as pd\n",
    "# from sentence_transformers import SentenceTransformer\n",
    "from elasticsearch import Elasticsearch, helpers\n",
    "from langchain.embeddings import HuggingFaceInferenceAPIEmbeddings\n"
   ]
  },
  {
   "cell_type": "code",
   "execution_count": 16,
   "metadata": {},
   "outputs": [],
   "source": [
    "notebook_dir = os.path.dirname(os.path.abspath(\"__file__\"))\n",
    "# Add the app directory to the Python path\n",
    "app_dir = os.path.join(notebook_dir, '../app')\n",
    "sys.path.append(app_dir)\n",
    "from src.constants import model_name,index_name, embedding_size, HF_API_TOKEN"
   ]
  },
  {
   "cell_type": "markdown",
   "metadata": {},
   "source": [
    "### Evaluate RAG"
   ]
  },
  {
   "cell_type": "markdown",
   "metadata": {},
   "source": [
    "#### read dataset"
   ]
  },
  {
   "cell_type": "code",
   "execution_count": 5,
   "metadata": {},
   "outputs": [],
   "source": [
    "# Read data into dataframe \n",
    "data_file_path = os.path.join('..','app','data', 'chunked_data.csv')\n",
    "df = pd.read_csv(data_file_path).dropna() \n",
    "\n",
    "# Convert dataframe to list of dictionaries\n",
    "data_dict = df.to_dict(orient=\"records\")"
   ]
  },
  {
   "cell_type": "code",
   "execution_count": 6,
   "metadata": {},
   "outputs": [
    {
     "data": {
      "text/plain": [
       "{'id': 100,\n",
       " 'title': 'Why we love, why we cheat',\n",
       " 'speaker': 'Helen Fisher',\n",
       " 'topics': \"['culture', 'science']\",\n",
       " 'transcript': \" I'm just simply saying that a world without love is a deadly place So now — (Applause) Thank you I want to end with a story And then, just a comment I've been studying romantic love and sex and attachment for 30 years I'm an identical twin; I am interested in why we're all alike Why you and I are alike, why the Iraqis and the Japanese and the Australian Aborigines and the people of the Amazon River are all alike\"}"
      ]
     },
     "execution_count": 6,
     "metadata": {},
     "output_type": "execute_result"
    }
   ],
   "source": [
    "data_dict[100]"
   ]
  },
  {
   "cell_type": "code",
   "execution_count": 7,
   "metadata": {},
   "outputs": [],
   "source": [
    "doc_idx = {d['id']: d for d in data_dict}"
   ]
  },
  {
   "cell_type": "markdown",
   "metadata": {},
   "source": [
    "#### Get ground truth data"
   ]
  },
  {
   "cell_type": "code",
   "execution_count": 8,
   "metadata": {},
   "outputs": [],
   "source": [
    "ground_truth_file_path = os.path.join('ground_truth.csv')\n",
    "df_ground_truth = pd.read_csv(ground_truth_file_path, header = 0, usecols=[0, 1])"
   ]
  },
  {
   "cell_type": "code",
   "execution_count": 9,
   "metadata": {},
   "outputs": [],
   "source": [
    "ground_truth = df_ground_truth.to_dict(orient='records')"
   ]
  },
  {
   "cell_type": "code",
   "execution_count": 10,
   "metadata": {},
   "outputs": [
    {
     "name": "stdout",
     "output_type": "stream",
     "text": [
      "258 {'question': 'What topic does Hans Rosling primarily address in his talk?', 'id': 0}\n"
     ]
    }
   ],
   "source": [
    "print(len(ground_truth), ground_truth[0])"
   ]
  },
  {
   "cell_type": "markdown",
   "metadata": {},
   "source": [
    "#### create vector embeddings "
   ]
  },
  {
   "cell_type": "code",
   "execution_count": 59,
   "metadata": {},
   "outputs": [],
   "source": [
    "emb_model = HuggingFaceInferenceAPIEmbeddings(\n",
    "        api_key=HF_API_TOKEN, \n",
    "        model_name=\"sentence-transformers/all-MiniLM-l6-v2\"\n",
    "    )\n",
    "index_name = 'ted-eval'\n",
    "es = Elasticsearch(\"http://localhost:9200\")"
   ]
  },
  {
   "cell_type": "code",
   "execution_count": 60,
   "metadata": {},
   "outputs": [
    {
     "data": {
      "text/plain": [
       "ObjectApiResponse({'acknowledged': True, 'shards_acknowledged': True, 'index': 'ted-eval'})"
      ]
     },
     "execution_count": 60,
     "metadata": {},
     "output_type": "execute_result"
    }
   ],
   "source": [
    "index_settings={\n",
    "    \"settings\": {\n",
    "            \"number_of_shards\": 1,\n",
    "            \"number_of_replicas\": 0\n",
    "    },\n",
    "    \"mappings\": {\n",
    "        \"properties\": {\n",
    "        \"title\": {\"type\": \"text\"},\n",
    "        \"transcript\": {\"type\": \"text\"}, \n",
    "        \"topics\": {\"type\": \"text\"}, \n",
    "        \"speaker\": {\"type\": \"text\"}, \n",
    "        \"about_speakers\": {\"type\": \"text\"}, \n",
    "        \"description\": {\"type\": \"text\"}, \n",
    "        \"title_transcript_vector\": {\"type\": \"dense_vector\", \"dims\": embedding_size, \"index\": True, \"similarity\": \"cosine\"},\n",
    "        }\n",
    "    }\n",
    "}\n",
    "\n",
    "# Create Index and delete if it already exists\n",
    "es.indices.delete(index=index_name, ignore_unavailable=True)\n",
    "es.indices.create(index=index_name, body = index_settings)"
   ]
  },
  {
   "cell_type": "markdown",
   "metadata": {},
   "source": [
    "Embedding the answer and query vector"
   ]
  },
  {
   "cell_type": "code",
   "execution_count": 61,
   "metadata": {},
   "outputs": [],
   "source": [
    "batch_size = 100\n",
    "def get_embeddings_batch( texts):\n",
    "    \"\"\"\n",
    "    Generates embedding vectors for a batch of texts using the Hugging Face endpoint.\n",
    "    \"\"\"\n",
    "    data = emb_model.embed_documents(texts)[:embedding_size]\n",
    "    return data "
   ]
  },
  {
   "cell_type": "code",
   "execution_count": 62,
   "metadata": {},
   "outputs": [
    {
     "name": "stderr",
     "output_type": "stream",
     "text": [
      "100%|██████████| 23/23 [01:25<00:00,  3.73s/it]\n"
     ]
    }
   ],
   "source": [
    "vector_data_dict = []\n",
    "for i in tqdm(range(0, len(data_dict), batch_size)):\n",
    "    batch = data_dict[i:i + batch_size]\n",
    "    title_transcripts = [f\"{data['title']} {data['transcript']}\" for data in batch]\n",
    "    transcripts = [data['transcript'] for data in batch]\n",
    "    transcript_embeddings = get_embeddings_batch(transcripts)\n",
    "    title_transcript_embeddings = get_embeddings_batch(title_transcripts)\n",
    "    \n",
    "    for j, data in enumerate(batch):\n",
    "        data['transcript_vector'] = transcript_embeddings[j][:embedding_size]\n",
    "        data['title_transcript_vector'] = title_transcript_embeddings[j][:embedding_size]\n",
    "        vector_data_dict.append(data)"
   ]
  },
  {
   "cell_type": "code",
   "execution_count": 64,
   "metadata": {},
   "outputs": [
    {
     "data": {
      "text/plain": [
       "dict_keys(['id', 'title', 'speaker', 'topics', 'transcript', 'transcript_vector', 'title_transcript_vector'])"
      ]
     },
     "execution_count": 64,
     "metadata": {},
     "output_type": "execute_result"
    }
   ],
   "source": [
    "vector_data_dict[0].keys()"
   ]
  },
  {
   "cell_type": "markdown",
   "metadata": {},
   "source": [
    "#### Creating index on data"
   ]
  },
  {
   "cell_type": "code",
   "execution_count": 65,
   "metadata": {},
   "outputs": [
    {
     "data": {
      "text/plain": [
       "(2290, [])"
      ]
     },
     "execution_count": 65,
     "metadata": {},
     "output_type": "execute_result"
    }
   ],
   "source": [
    "\n",
    "# Add Data to Index using index() \n",
    "actions = [\n",
    "    {\n",
    "        \"_index\": index_name,\n",
    "        \"_id\": i,\n",
    "        \"_source\": row\n",
    "    }\n",
    "    for i, row in enumerate(vector_data_dict)\n",
    "]\n",
    "helpers.bulk(es, actions)"
   ]
  },
  {
   "cell_type": "code",
   "execution_count": 66,
   "metadata": {},
   "outputs": [
    {
     "name": "stdout",
     "output_type": "stream",
     "text": [
      "{'name': '58ce424d0117', 'cluster_name': 'docker-cluster', 'cluster_uuid': '0F660e46RlOZvAeyTjObFw', 'version': {'number': '8.7.0', 'build_flavor': 'default', 'build_type': 'docker', 'build_hash': '09520b59b6bc1057340b55750186466ea715e30e', 'build_date': '2023-03-27T16:31:09.816451435Z', 'build_snapshot': False, 'lucene_version': '9.5.0', 'minimum_wire_compatibility_version': '7.17.0', 'minimum_index_compatibility_version': '7.0.0'}, 'tagline': 'You Know, for Search'}\n"
     ]
    }
   ],
   "source": [
    "print(es.info())"
   ]
  },
  {
   "cell_type": "code",
   "execution_count": 67,
   "metadata": {},
   "outputs": [],
   "source": [
    "def elastic_search_knn(field, vector):\n",
    "    knn = {\n",
    "        \"field\": field,\n",
    "        \"query_vector\": vector,\n",
    "        \"k\": 3,\n",
    "        \"num_candidates\": 100,\n",
    "    }\n",
    "    search_query = {\n",
    "        \"knn\": knn,\n",
    "        \"_source\": [\"transcript\", \"title\", \"topic\", \"id\"]\n",
    "    }\n",
    "    es_results = es.search(\n",
    "        index=index_name, \n",
    "        body=search_query\n",
    "    )\n",
    "    result_docs = []\n",
    "    for hit in es_results['hits']['hits']:\n",
    "        result_docs.append(hit['_source'])\n",
    "\n",
    "    return result_docs"
   ]
  },
  {
   "cell_type": "markdown",
   "metadata": {},
   "source": [
    "#### RAG Flow"
   ]
  },
  {
   "cell_type": "code",
   "execution_count": 68,
   "metadata": {},
   "outputs": [],
   "source": [
    "from langchain_huggingface import HuggingFaceEndpoint"
   ]
  },
  {
   "cell_type": "code",
   "execution_count": 75,
   "metadata": {},
   "outputs": [],
   "source": [
    "def title_transcript_vector_knn(q):\n",
    "    question = q['question'] \n",
    "    v_q = emb_model.embed_query(question)[:embedding_size]\n",
    "\n",
    "    return elastic_search_knn('title_transcript_vector', v_q)"
   ]
  },
  {
   "cell_type": "code",
   "execution_count": 76,
   "metadata": {},
   "outputs": [],
   "source": [
    "def generate_prompt(query, context):\n",
    "    prompt_template = \"\"\"\n",
    "    You are a TED Talks Q&A Assistant. \n",
    "    Answer the question about the talks using the speaker's transcript of the talk below, summarizing what the speaker meant to say.\n",
    "    QUESTION: {question}\n",
    "    CONTEXT: \n",
    "    {context}\n",
    "    Provide a clear and insightful answer.\n",
    "    \"\"\".strip()\n",
    "\n",
    "    prompt = prompt_template.format(question=query, context=context)\n",
    "    return prompt"
   ]
  },
  {
   "cell_type": "code",
   "execution_count": 77,
   "metadata": {},
   "outputs": [],
   "source": [
    "def llm(prompt):\n",
    "    repo_id = \"mistralai/Mistral-7B-Instruct-v0.2\"\n",
    "\n",
    "    llm = HuggingFaceEndpoint(\n",
    "        repo_id=repo_id,\n",
    "        max_length=128,\n",
    "        temperature=0.5,\n",
    "        huggingfacehub_api_token=HF_API_TOKEN,\n",
    "    ) \n",
    "    llm_response = llm.invoke(prompt) \n",
    "    return llm_response "
   ]
  },
  {
   "cell_type": "code",
   "execution_count": 78,
   "metadata": {},
   "outputs": [],
   "source": [
    "def rag_pipeline(query: dict) -> str:\n",
    "    search_results =title_transcript_vector_knn(query)\n",
    "    prompt = generate_prompt(query['question'], search_results)\n",
    "    answer = llm(prompt)\n",
    "    return answer"
   ]
  },
  {
   "cell_type": "code",
   "execution_count": 79,
   "metadata": {},
   "outputs": [
    {
     "data": {
      "text/plain": [
       "{'question': 'How does experience simulation benefit human decision-making?',\n",
       " 'id': 140}"
      ]
     },
     "execution_count": 79,
     "metadata": {},
     "output_type": "execute_result"
    }
   ],
   "source": [
    "ground_truth[100]"
   ]
  },
  {
   "cell_type": "code",
   "execution_count": 85,
   "metadata": {},
   "outputs": [
    {
     "name": "stderr",
     "output_type": "stream",
     "text": [
      "WARNING! max_length is not default parameter.\n",
      "                    max_length was transferred to model_kwargs.\n",
      "                    Please make sure that max_length is what you intended.\n"
     ]
    },
    {
     "name": "stdout",
     "output_type": "stream",
     "text": [
      "The token has not been saved to the git credentials helper. Pass `add_to_git_credential=True` in this function directly or `--add-to-git-credential` if using via `huggingface-cli` if you want to set the git credential as well.\n",
      "Token is valid (permission: read).\n",
      "Your token has been saved to C:\\Users\\h4has\\.cache\\huggingface\\token\n",
      "Login successful\n"
     ]
    },
    {
     "data": {
      "text/plain": [
       "'\\n\\nAnswer:\\nThe speaker in the TED Talks suggests that the human brain, specifically the prefrontal cortex, has evolved to become an experience simulator. This ability to simulate experiences is crucial for decision-making. Intrinsic motivation, such as autonomy, mastery, and purpose, is more effective in enhancing decision-making and creativity than extrinsic motivators, like carrots and sticks. However, the speaker also points out that the use of extrinsic motivators can sometimes dull thinking and block creativity, as seen in various studies. Therefore, understanding the role of experience simulation in decision-making and the impact of intrinsic and extrinsic motivators can lead to more effective and productive outcomes.'"
      ]
     },
     "execution_count": 85,
     "metadata": {},
     "output_type": "execute_result"
    }
   ],
   "source": [
    "rag_pipeline(ground_truth[100])"
   ]
  },
  {
   "cell_type": "code",
   "execution_count": 84,
   "metadata": {},
   "outputs": [
    {
     "data": {
      "text/plain": [
       "\" Human beings have this marvelous adaptation that they can actually have experiences in their heads before they try them out in real life This is a trick that none of our ancestors could do, and that no other animal can do quite like we can It's a marvelous adaptation It's up there with opposable thumbs and standing upright and language as one of the things that got our species out of the trees and into the shopping mall\""
      ]
     },
     "execution_count": 84,
     "metadata": {},
     "output_type": "execute_result"
    }
   ],
   "source": [
    "doc_idx[140]['transcript']"
   ]
  },
  {
   "cell_type": "code",
   "execution_count": 87,
   "metadata": {},
   "outputs": [],
   "source": [
    "answer_llm = '\\n\\nAnswer:\\nThe speaker in the TED Talks suggests that the human brain, specifically the prefrontal cortex, has evolved to become an experience simulator. This ability to simulate experiences is crucial for decision-making. Intrinsic motivation, such as autonomy, mastery, and purpose, is more effective in enhancing decision-making and creativity than extrinsic motivators, like carrots and sticks. However, the speaker also points out that the use of extrinsic motivators can sometimes dull thinking and block creativity, as seen in various studies. Therefore, understanding the role of experience simulation in decision-making and the impact of intrinsic and extrinsic motivators can lead to more effective and productive outcomes.'\n",
    "answer_orig = doc_idx[140]['transcript']"
   ]
  },
  {
   "cell_type": "code",
   "execution_count": 90,
   "metadata": {},
   "outputs": [
    {
     "name": "stdout",
     "output_type": "stream",
     "text": [
      "0.3364782018812696\n"
     ]
    }
   ],
   "source": [
    "import numpy as np\n",
    "v_llm = np.array(emb_model.embed_query(answer_llm))\n",
    "v_orig = np.array(emb_model.embed_query(answer_orig))\n",
    "result = np.dot(v_llm, v_orig)\n",
    "print(result)\n"
   ]
  },
  {
   "cell_type": "code",
   "execution_count": 91,
   "metadata": {},
   "outputs": [],
   "source": [
    "answers ={}"
   ]
  },
  {
   "cell_type": "markdown",
   "metadata": {},
   "source": [
    "#### Generate LLM answers "
   ]
  },
  {
   "cell_type": "code",
   "execution_count": null,
   "metadata": {},
   "outputs": [],
   "source": [
    "for i, rec in enumerate(tqdm(ground_truth)):\n",
    "    if i in answers:\n",
    "        continue\n",
    "\n",
    "    answer_llm = rag_pipeline(rec)\n",
    "    doc_id = rec['id']\n",
    "    original_doc = doc_idx[doc_id]\n",
    "    answer_orig = original_doc['transcript'] \n",
    "    answers[i] = {\n",
    "        'answer_llm': answer_llm,\n",
    "        'answer_orig': answer_orig,\n",
    "        'id': doc_id,\n",
    "        'question': rec['question']\n",
    "    }"
   ]
  },
  {
   "cell_type": "code",
   "execution_count": 144,
   "metadata": {},
   "outputs": [
    {
     "data": {
      "text/plain": [
       "{'answer_llm': '\\n\\nAnswer:\\nThe speaker, who gave the talks \"Why we love, why we cheat\" and \"The secret to desire in a long-term relationship,\" explains that the sex drive is designed to motivate us to seek out potential partners. However, romantic love evolved to help us focus our mating energy on one individual at a time, thereby conserving our mating time and energy. The intense craving and obsession that come with romantic love help us to invest our emotional and mental resources in one person, making the relationship more meaningful and efficient. Additionally, desire in a long-term relationship requires space and needs to be nurtured, and romantic love provides the foundation for that desire to flourish.',\n",
       " 'answer_orig': \" And I think that the sex drive evolved to get you out there, looking for a whole range of partners You can feel it when you're just driving along in your car It can be focused on nobody I think romantic love evolved to enable you to focus your mating energy on just one individual at a time, thereby conserving mating time and energy\",\n",
       " 'id': 79,\n",
       " 'question': 'How does romantic love help in focusing mating energy?'}"
      ]
     },
     "execution_count": 144,
     "metadata": {},
     "output_type": "execute_result"
    }
   ],
   "source": [
    "answers[30]"
   ]
  },
  {
   "cell_type": "code",
   "execution_count": 155,
   "metadata": {},
   "outputs": [],
   "source": [
    "# Save data to file\n",
    "answers_df = pd.DataFrame.from_dict(answers)\n",
    "answers_df.to_csv('rag_eval.csv', index=False)"
   ]
  },
  {
   "cell_type": "code",
   "execution_count": 146,
   "metadata": {},
   "outputs": [
    {
     "data": {
      "text/html": [
       "<div>\n",
       "<style scoped>\n",
       "    .dataframe tbody tr th:only-of-type {\n",
       "        vertical-align: middle;\n",
       "    }\n",
       "\n",
       "    .dataframe tbody tr th {\n",
       "        vertical-align: top;\n",
       "    }\n",
       "\n",
       "    .dataframe thead th {\n",
       "        text-align: right;\n",
       "    }\n",
       "</style>\n",
       "<table border=\"1\" class=\"dataframe\">\n",
       "  <thead>\n",
       "    <tr style=\"text-align: right;\">\n",
       "      <th></th>\n",
       "      <th>0</th>\n",
       "      <th>1</th>\n",
       "      <th>2</th>\n",
       "      <th>3</th>\n",
       "      <th>4</th>\n",
       "      <th>5</th>\n",
       "      <th>6</th>\n",
       "      <th>7</th>\n",
       "      <th>8</th>\n",
       "      <th>9</th>\n",
       "      <th>...</th>\n",
       "      <th>49</th>\n",
       "      <th>50</th>\n",
       "      <th>51</th>\n",
       "      <th>52</th>\n",
       "      <th>53</th>\n",
       "      <th>54</th>\n",
       "      <th>55</th>\n",
       "      <th>56</th>\n",
       "      <th>57</th>\n",
       "      <th>58</th>\n",
       "    </tr>\n",
       "  </thead>\n",
       "  <tbody>\n",
       "    <tr>\n",
       "      <th>answer_llm</th>\n",
       "      <td>\\n    I. Hans Rosling does not primarily addre...</td>\n",
       "      <td>\\n\\nAnswer:\\nHans Rosling, in his TED Talk \"Th...</td>\n",
       "      <td>\\n\\nAnswer:\\nThe speaker did not provide speci...</td>\n",
       "      <td>\\n\\nAnswer:\\nThe main issue with the students'...</td>\n",
       "      <td>\\n    ANSWER: Hans Rosling did not create a sp...</td>\n",
       "      <td>\\n    ANSWER:\\n    Hans Rosling differentiates...</td>\n",
       "      <td>\\n    ANSWER:\\n    Hans Rosling observed signi...</td>\n",
       "      <td>\\n\\nAnswer:\\nHans Rosling, in his talk \"The be...</td>\n",
       "      <td>\\n\\nAnswer:\\nIn the 1980s, Bangladesh underwen...</td>\n",
       "      <td>\\n\\nAnswer:\\nHans Rosling, in his TED Talk \"Th...</td>\n",
       "      <td>...</td>\n",
       "      <td>\\n\\nAnswer:\\nSSRIs, or Selective Serotonin Reu...</td>\n",
       "      <td>\\n    ANSWER:\\n    Helen Fisher, in her TED Ta...</td>\n",
       "      <td>\\n\\nAnswer:\\nHelen Fisher did not design a dat...</td>\n",
       "      <td>\\n\\nThe speaker, Eli Finkel, suggests that sev...</td>\n",
       "      <td>\\n    ANSWER:\\n    In the context of the provi...</td>\n",
       "      <td>\\n\\nAnswer:\\nThe speaker of the talk \"How to f...</td>\n",
       "      <td>\\n    ANSWER:\\n    Malcolm Gladwell's talks in...</td>\n",
       "      <td>\\n    ANSWER: Howard Moskowitz is a research p...</td>\n",
       "      <td>\\n    Howard's first project with Pepsi was ab...</td>\n",
       "      <td>\\n\\nAnswer:\\nThe method Howard used to determi...</td>\n",
       "    </tr>\n",
       "    <tr>\n",
       "      <th>answer_orig</th>\n",
       "      <td>About 10 years ago, I took on the task to teac...</td>\n",
       "      <td>So I did a pretest when they came And one of ...</td>\n",
       "      <td>And these were the results of the Swedish stu...</td>\n",
       "      <td>(Laughter) Because the chimpanzee would score...</td>\n",
       "      <td>So we did this software, which displays it li...</td>\n",
       "      <td>' And 'we' is the Western world and 'them' is ...</td>\n",
       "      <td>Here, I put life expectancy at birth, from 30...</td>\n",
       "      <td>We stopped the world then This is all UN stat...</td>\n",
       "      <td>In the '80s here, you have Bangladesh still a...</td>\n",
       "      <td>(Applause) (Applause ends) Let me make a comp...</td>\n",
       "      <td>...</td>\n",
       "      <td>And these drugs are going generic They are se...</td>\n",
       "      <td>And indeed, what these drugs do is raise leve...</td>\n",
       "      <td>com, came to me and asked me if I would design...</td>\n",
       "      <td>Proximity is important Mystery is important Y...</td>\n",
       "      <td>And this graduate student was madly in love w...</td>\n",
       "      <td>And sure enough — I've never been in one, but...</td>\n",
       "      <td>I think I was supposed to talk about my new bo...</td>\n",
       "      <td>Howard's about this high, and he's round, and...</td>\n",
       "      <td>Which should tell you something about that re...</td>\n",
       "      <td>We'd like you to figure out how much aspartam...</td>\n",
       "    </tr>\n",
       "    <tr>\n",
       "      <th>id</th>\n",
       "      <td>0</td>\n",
       "      <td>1</td>\n",
       "      <td>2</td>\n",
       "      <td>3</td>\n",
       "      <td>4</td>\n",
       "      <td>5</td>\n",
       "      <td>6</td>\n",
       "      <td>7</td>\n",
       "      <td>8</td>\n",
       "      <td>9</td>\n",
       "      <td>...</td>\n",
       "      <td>98</td>\n",
       "      <td>99</td>\n",
       "      <td>101</td>\n",
       "      <td>102</td>\n",
       "      <td>104</td>\n",
       "      <td>105</td>\n",
       "      <td>106</td>\n",
       "      <td>107</td>\n",
       "      <td>108</td>\n",
       "      <td>109</td>\n",
       "    </tr>\n",
       "    <tr>\n",
       "      <th>question</th>\n",
       "      <td>What topic does Hans Rosling primarily address...</td>\n",
       "      <td>How did Hans Rosling assess his students' know...</td>\n",
       "      <td>What were the results of the Swedish students'...</td>\n",
       "      <td>What was the main issue with the students' und...</td>\n",
       "      <td>What data visualization did Hans Rosling creat...</td>\n",
       "      <td>How does Hans Rosling differentiate between th...</td>\n",
       "      <td>What changes in life expectancy and family siz...</td>\n",
       "      <td>What improvements did Hans Rosling note in Lat...</td>\n",
       "      <td>What was the significant change in Bangladesh ...</td>\n",
       "      <td>How did the Vietnam War affect life expectancy...</td>\n",
       "      <td>...</td>\n",
       "      <td>What effects do SSRIs have on the brain's dopa...</td>\n",
       "      <td>What is Helen Fisher's perspective on a world ...</td>\n",
       "      <td>What was Helen Fisher's role in designing a da...</td>\n",
       "      <td>What factors influence who we fall in love with?</td>\n",
       "      <td>What is the significance of doing novel activi...</td>\n",
       "      <td>How did a graduate student attempt to win some...</td>\n",
       "      <td>What is the main theme of Malcolm Gladwell's t...</td>\n",
       "      <td>Who is Howard Moskowitz and what is his profes...</td>\n",
       "      <td>What was Howard's first project with Pepsi?</td>\n",
       "      <td>What method did Howard use to determine the id...</td>\n",
       "    </tr>\n",
       "  </tbody>\n",
       "</table>\n",
       "<p>4 rows × 59 columns</p>\n",
       "</div>"
      ],
      "text/plain": [
       "                                                            0   \\\n",
       "answer_llm   \\n    I. Hans Rosling does not primarily addre...   \n",
       "answer_orig  About 10 years ago, I took on the task to teac...   \n",
       "id                                                           0   \n",
       "question     What topic does Hans Rosling primarily address...   \n",
       "\n",
       "                                                            1   \\\n",
       "answer_llm   \\n\\nAnswer:\\nHans Rosling, in his TED Talk \"Th...   \n",
       "answer_orig   So I did a pretest when they came And one of ...   \n",
       "id                                                           1   \n",
       "question     How did Hans Rosling assess his students' know...   \n",
       "\n",
       "                                                            2   \\\n",
       "answer_llm   \\n\\nAnswer:\\nThe speaker did not provide speci...   \n",
       "answer_orig   And these were the results of the Swedish stu...   \n",
       "id                                                           2   \n",
       "question     What were the results of the Swedish students'...   \n",
       "\n",
       "                                                            3   \\\n",
       "answer_llm   \\n\\nAnswer:\\nThe main issue with the students'...   \n",
       "answer_orig   (Laughter) Because the chimpanzee would score...   \n",
       "id                                                           3   \n",
       "question     What was the main issue with the students' und...   \n",
       "\n",
       "                                                            4   \\\n",
       "answer_llm   \\n    ANSWER: Hans Rosling did not create a sp...   \n",
       "answer_orig   So we did this software, which displays it li...   \n",
       "id                                                           4   \n",
       "question     What data visualization did Hans Rosling creat...   \n",
       "\n",
       "                                                            5   \\\n",
       "answer_llm   \\n    ANSWER:\\n    Hans Rosling differentiates...   \n",
       "answer_orig  ' And 'we' is the Western world and 'them' is ...   \n",
       "id                                                           5   \n",
       "question     How does Hans Rosling differentiate between th...   \n",
       "\n",
       "                                                            6   \\\n",
       "answer_llm   \\n    ANSWER:\\n    Hans Rosling observed signi...   \n",
       "answer_orig   Here, I put life expectancy at birth, from 30...   \n",
       "id                                                           6   \n",
       "question     What changes in life expectancy and family siz...   \n",
       "\n",
       "                                                            7   \\\n",
       "answer_llm   \\n\\nAnswer:\\nHans Rosling, in his talk \"The be...   \n",
       "answer_orig   We stopped the world then This is all UN stat...   \n",
       "id                                                           7   \n",
       "question     What improvements did Hans Rosling note in Lat...   \n",
       "\n",
       "                                                            8   \\\n",
       "answer_llm   \\n\\nAnswer:\\nIn the 1980s, Bangladesh underwen...   \n",
       "answer_orig   In the '80s here, you have Bangladesh still a...   \n",
       "id                                                           8   \n",
       "question     What was the significant change in Bangladesh ...   \n",
       "\n",
       "                                                            9   ...  \\\n",
       "answer_llm   \\n\\nAnswer:\\nHans Rosling, in his TED Talk \"Th...  ...   \n",
       "answer_orig   (Applause) (Applause ends) Let me make a comp...  ...   \n",
       "id                                                           9  ...   \n",
       "question     How did the Vietnam War affect life expectancy...  ...   \n",
       "\n",
       "                                                            49  \\\n",
       "answer_llm   \\n\\nAnswer:\\nSSRIs, or Selective Serotonin Reu...   \n",
       "answer_orig   And these drugs are going generic They are se...   \n",
       "id                                                          98   \n",
       "question     What effects do SSRIs have on the brain's dopa...   \n",
       "\n",
       "                                                            50  \\\n",
       "answer_llm   \\n    ANSWER:\\n    Helen Fisher, in her TED Ta...   \n",
       "answer_orig   And indeed, what these drugs do is raise leve...   \n",
       "id                                                          99   \n",
       "question     What is Helen Fisher's perspective on a world ...   \n",
       "\n",
       "                                                            51  \\\n",
       "answer_llm   \\n\\nAnswer:\\nHelen Fisher did not design a dat...   \n",
       "answer_orig  com, came to me and asked me if I would design...   \n",
       "id                                                         101   \n",
       "question     What was Helen Fisher's role in designing a da...   \n",
       "\n",
       "                                                            52  \\\n",
       "answer_llm   \\n\\nThe speaker, Eli Finkel, suggests that sev...   \n",
       "answer_orig   Proximity is important Mystery is important Y...   \n",
       "id                                                         102   \n",
       "question      What factors influence who we fall in love with?   \n",
       "\n",
       "                                                            53  \\\n",
       "answer_llm   \\n    ANSWER:\\n    In the context of the provi...   \n",
       "answer_orig   And this graduate student was madly in love w...   \n",
       "id                                                         104   \n",
       "question     What is the significance of doing novel activi...   \n",
       "\n",
       "                                                            54  \\\n",
       "answer_llm   \\n\\nAnswer:\\nThe speaker of the talk \"How to f...   \n",
       "answer_orig   And sure enough — I've never been in one, but...   \n",
       "id                                                         105   \n",
       "question     How did a graduate student attempt to win some...   \n",
       "\n",
       "                                                            55  \\\n",
       "answer_llm   \\n    ANSWER:\\n    Malcolm Gladwell's talks in...   \n",
       "answer_orig  I think I was supposed to talk about my new bo...   \n",
       "id                                                         106   \n",
       "question     What is the main theme of Malcolm Gladwell's t...   \n",
       "\n",
       "                                                            56  \\\n",
       "answer_llm   \\n    ANSWER: Howard Moskowitz is a research p...   \n",
       "answer_orig   Howard's about this high, and he's round, and...   \n",
       "id                                                         107   \n",
       "question     Who is Howard Moskowitz and what is his profes...   \n",
       "\n",
       "                                                            57  \\\n",
       "answer_llm   \\n    Howard's first project with Pepsi was ab...   \n",
       "answer_orig   Which should tell you something about that re...   \n",
       "id                                                         108   \n",
       "question           What was Howard's first project with Pepsi?   \n",
       "\n",
       "                                                            58  \n",
       "answer_llm   \\n\\nAnswer:\\nThe method Howard used to determi...  \n",
       "answer_orig   We'd like you to figure out how much aspartam...  \n",
       "id                                                         109  \n",
       "question     What method did Howard use to determine the id...  \n",
       "\n",
       "[4 rows x 59 columns]"
      ]
     },
     "execution_count": 146,
     "metadata": {},
     "output_type": "execute_result"
    }
   ],
   "source": [
    "answers_df.head(5)"
   ]
  },
  {
   "cell_type": "markdown",
   "metadata": {},
   "source": [
    "#### Calculate similarity"
   ]
  },
  {
   "cell_type": "code",
   "execution_count": 98,
   "metadata": {},
   "outputs": [],
   "source": [
    "def compute_similarity(record):\n",
    "    answer_orig = record['answer_orig']\n",
    "    answer_llm = record['answer_llm']\n",
    "    \n",
    "    v_llm = np.array(emb_model.embed_query(answer_llm))\n",
    "    v_orig = np.array(emb_model.embed_query(answer_orig))\n",
    "    \n",
    "    return np.dot(v_llm, v_orig)"
   ]
  },
  {
   "cell_type": "code",
   "execution_count": 148,
   "metadata": {},
   "outputs": [
    {
     "name": "stderr",
     "output_type": "stream",
     "text": [
      "100%|██████████| 30/30 [00:14<00:00,  2.12it/s]\n"
     ]
    }
   ],
   "source": [
    "similarity = []\n",
    "for record in tqdm(list(answers.values())):\n",
    "    sim = compute_similarity(record)\n",
    "    similarity.append(sim)"
   ]
  },
  {
   "cell_type": "markdown",
   "metadata": {},
   "source": [
    "## RAG Performance"
   ]
  },
  {
   "cell_type": "code",
   "execution_count": 110,
   "metadata": {},
   "outputs": [],
   "source": [
    "%matplotlib inline"
   ]
  },
  {
   "cell_type": "code",
   "execution_count": 154,
   "metadata": {},
   "outputs": [
    {
     "name": "stderr",
     "output_type": "stream",
     "text": [
      "C:\\Users\\h4has\\AppData\\Local\\Temp\\ipykernel_16936\\2814807013.py:5: UserWarning: \n",
      "\n",
      "`distplot` is a deprecated function and will be removed in seaborn v0.14.0.\n",
      "\n",
      "Please adapt your code to use either `displot` (a figure-level function with\n",
      "similar flexibility) or `histplot` (an axes-level function for histograms).\n",
      "\n",
      "For a guide to updating your code to use the new functions, please see\n",
      "https://gist.github.com/mwaskom/de44147ed2974457ad6372750bbe5751\n",
      "\n",
      "  sns.distplot(similarity, kde=True)\n"
     ]
    },
    {
     "data": {
      "text/plain": [
       "Text(0, 0.5, 'Density')"
      ]
     },
     "execution_count": 154,
     "metadata": {},
     "output_type": "execute_result"
    },
    {
     "data": {
      "image/png": "[encoded data removed]",
      "text/plain": [
       "<Figure size 640x480 with 1 Axes>"
      ]
     },
     "metadata": {},
     "output_type": "display_data"
    }
   ],
   "source": [
    "import seaborn as sns\n",
    "import matplotlib.pyplot as plt\n",
    "\n",
    "# Use displot for the similarity values\n",
    "sns.distplot(similarity, kde=True) \n",
    "\n",
    "plt.xlabel('Similarity') \n",
    "plt.ylabel('Density')\n"
   ]
  }
 ],
 "metadata": {
  "kernelspec": {
   "display_name": "rag_zoom",
   "language": "python",
   "name": "python3"
  },
  "language_info": {
   "codemirror_mode": {
    "name": "ipython",
    "version": 3
   },
   "file_extension": ".py",
   "mimetype": "text/x-python",
   "name": "python",
   "nbconvert_exporter": "python",
   "pygments_lexer": "ipython3",
   "version": "3.9.0"
  }
 },
 "nbformat": 4,
 "nbformat_minor": 2
}
